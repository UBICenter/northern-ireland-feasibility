{
 "cells": [
  {
   "cell_type": "code",
   "execution_count": 7,
   "metadata": {},
   "outputs": [
    {
     "data": {
      "text/markdown": [
       "\n",
       "# Northern Ireland UBI Feasibility Study\n",
       "\n",
       "## Executive summary\n",
       "\n",
       "Following proposals by the UBI Lab Northern Ireland, we analyse a range of UBI policies for Northern Ireland, funded by income tax reforms. For our analyses, we use [PolicyEngine UK](https://policyengine.org.uk), an app for designing and computing impacts of customisable tax and benefit reforms.\n",
       "\n",
       "We find that...\n",
       "\n",
       "## Northern Ireland today\n",
       "\n",
       "Northern Ireland’s demographic and economic characteristics differ from those of the UK and other UK nations. In the main, this is lower economic output, but consistent levels of social security spending. NI has a GDP per capita that is around 20% lower than the UK average,[^1] and the population of 1.9m individuals generates around £2.8bn in Income Tax liabilities.[^2] Higher levels of public spending (with a net fiscal deficit of £9,500 per capita)[^3] in NI increase disposable incomes to offset this. As a result, we estimate that Northern Ireland's poverty rate is 6.1%, compared to the UK rate of 5.5%. We also find that it is more equal, with a Gini index of 0.274 against the UK's 0.333. \n",
       "\n",
       "Many of Northern Ireland’s taxes and benefits operate under centralised UK rules, though exceptions to this include local property taxes such as domestic rates (and rates rebates), which exist in place of Council Tax and Council Tax Benefit. Unlike Scotland, Northern Ireland does not set alternative tax rates for Income Tax.\n",
       "\n",
       "[^1]: [Northern Ireland Statistics Research Agency, 2020.](https://www.nisra.gov.uk/statistics/economic-output-statistics/gross-value-added-and-gross-domestic-product#:~:text=In%20terms%20of%20GDP%20per,78.6%20per%20cent%20of%20UK)\n",
       "\n",
       "[^2]: [HMRC, 2019.](https://assets.publishing.service.gov.uk/government/uploads/system/uploads/attachment_data/file/853118/Disaggregated_tax_and_NICs_receipts_-_methodological_note.pdf)\n",
       "\n",
       "[^3]: [ONS, 2021](https://www.ons.gov.uk/economy/governmentpublicsectorandtaxes/publicsectorfinance/articles/countryandregionalpublicsectorfinances/financialyearending2021#:~:text=On%20a%20per%20person%20basis,per%20head%20was%20%C2%A34%2C74)\n",
       "\n",
       "[^4]: Absolute poverty rate before housing costs, using the OpenFisca UK calibrated Family Resources Survey extrapolated to 2022.\n",
       "\n"
      ],
      "text/plain": [
       "<IPython.core.display.Markdown object>"
      ]
     },
     "execution_count": 7,
     "metadata": {},
     "output_type": "execute_result"
    }
   ],
   "source": [
    "from policyengine import PolicyEngineUK\n",
    "from IPython.display import Markdown\n",
    "\n",
    "uk = PolicyEngineUK()\n",
    "\n",
    "uk_baseline, _ = uk.create_microsimulations(dict())\n",
    "\n",
    "uk_poverty_rate = uk_baseline.calc(\"in_poverty_bhc\", map_to=\"person\").mean()\n",
    "uk_gini = uk_baseline.calc(\"equiv_household_net_income\", map_to=\"person\").gini()\n",
    "\n",
    "ni_baseline, _ = uk.create_microsimulations(dict(baseline_country_specific=\"NORTHERN_IRELAND\"))\n",
    "\n",
    "ni_poverty_rate = ni_baseline.calc(\"in_poverty_bhc\", map_to=\"person\").mean()\n",
    "ni_gini = ni_baseline.calc(\"equiv_household_net_income\", map_to=\"person\").gini()\n",
    "\n",
    "Markdown(\n",
    "    f\"\"\"\n",
    "# Northern Ireland UBI Feasibility Study\n",
    "\n",
    "## Executive summary\n",
    "\n",
    "Following proposals by the UBI Lab Northern Ireland, we analyse a range of UBI policies for Northern Ireland, funded by income tax reforms. For our analyses, we use [PolicyEngine UK](https://policyengine.org.uk), an app for designing and computing impacts of customisable tax and benefit reforms.\n",
    "\n",
    "We find that...\n",
    "\n",
    "## Northern Ireland today\n",
    "\n",
    "Northern Ireland’s demographic and economic characteristics differ from those of the UK and other UK nations. In the main, this is lower economic output, but consistent levels of social security spending. NI has a GDP per capita that is around 20% lower than the UK average,[^1] and the population of 1.9m individuals generates around £2.8bn in Income Tax liabilities.[^2] Higher levels of public spending (with a net fiscal deficit of £9,500 per capita)[^3] in NI increase disposable incomes to offset this. As a result, we estimate that Northern Ireland's poverty rate is {ni_poverty_rate:.1%}, compared to the UK rate of {uk_poverty_rate:.1%}. We also find that it is more equal, with a Gini index of {ni_gini:.3f} against the UK's {uk_gini:.3f}. \n",
    "\n",
    "Many of Northern Ireland’s taxes and benefits operate under centralised UK rules, though exceptions to this include local property taxes such as domestic rates (and rates rebates), which exist in place of Council Tax and Council Tax Benefit. Unlike Scotland, Northern Ireland does not set alternative tax rates for Income Tax.\n",
    "\n",
    "[^1]: [Northern Ireland Statistics Research Agency, 2020.](https://www.nisra.gov.uk/statistics/economic-output-statistics/gross-value-added-and-gross-domestic-product#:~:text=In%20terms%20of%20GDP%20per,78.6%20per%20cent%20of%20UK)\n",
    "\n",
    "[^2]: [HMRC, 2019.](https://assets.publishing.service.gov.uk/government/uploads/system/uploads/attachment_data/file/853118/Disaggregated_tax_and_NICs_receipts_-_methodological_note.pdf)\n",
    "\n",
    "[^3]: [ONS, 2021](https://www.ons.gov.uk/economy/governmentpublicsectorandtaxes/publicsectorfinance/articles/countryandregionalpublicsectorfinances/financialyearending2021#:~:text=On%20a%20per%20person%20basis,per%20head%20was%20%C2%A34%2C74)\n",
    "\n",
    "[^4]: Absolute poverty rate before housing costs, using the OpenFisca UK calibrated Family Resources Survey extrapolated to 2022.\n",
    "\n",
    "\"\"\"\n",
    ")"
   ]
  },
  {
   "cell_type": "markdown",
   "metadata": {},
   "source": [
    "Many of Northern Ireland’s taxes and benefits operate under centralised UK rules, though exceptions to this include local property taxes such as domestic rates (and rates rebates), which exist in place of Council Tax and Council Tax Benefit. Unlike Scotland, Northern Ireland does not set alternative tax rates for Income Tax.\n",
    "\n",
    "A 2017 poll by Ipsos MORI found that 66% of Northern Irish people favoured a basic income, compared to 49% of UK residents.[^5] Northern Ireland's net favourability of +55 was more than double that of any other region surveyed.\n",
    "\n",
    "[^5]: This is the only poll to ask about basic income for Northern Ireland and the UK, per the [UBI Center's Poll Tracker](http://polls.ubicenter.org).\n",
    "\n",
    "## Exploring the space of feasible policies\n",
    "\n",
    "One could model an infinite number of basic income policies for Northern Ireland. We constrained the problem by defining UBI parameter values, tax variables to adjust, and requirements for the resulting policy.\n",
    "\n",
    "In particular, we limited to UBI policies of the following form:\n",
    "* Amounts per adult (aged over 18) of £200, £300, and £400 per month\n",
    "* Amounts per child of half the adult amount\n",
    "* UBI payments do not count as income for tax or means-tested benefits\n",
    "\n",
    "To fund the UBI, we considered three levers:\n",
    "* Personal allowance, from zero to the current value of £12,570 (we also adjusted the higher rate threshold to keep it at £50,270)\n",
    "* Basic rate increase\n",
    "* Ratio of higher and additional rate increases to the basic rate increase, of 0x (not changing the higher and additional rates), 1x, and 2x\n",
    "\n",
    "Finally, we constrained the end policy to:\n",
    "* Be budget-neutral (assuming no behavioural responses)\n",
    "* Avoid raising marginal tax rates above 100%,[^6] either via the normal tax rates, the phase-out of the personal allowance or benefit phase-outs\n",
    "\n",
    "Figure 2 represents this exploratory exercise: each point in these lines is a feasible policy. For example, the leftmost line in each group shows the set of all policies that provide £200 per month to adults (£100 to children), and in which the higher and additional rates rise two percentage points per percentage point increase in the basic rate. It varies by the basic rate and personal allowance. The top-left point in this line is a policy that abolishes the Personal Allowance, increases the basic rate by 4p, and increases the higher and additional rates by 8p (see it in PolicyEngine [here]()).\n",
    "\n",
    "[^6]: We exclude the Child Benefit High-Income Tax Charge from contributing to this limit, because the MTR addition from that is dependent on the number of children, with no upper bound."
   ]
  },
  {
   "cell_type": "markdown",
   "metadata": {},
   "source": [
    "## Costing the UBI\n",
    "\n",
    "* Cost of UBI up to £400 per month\n",
    "* Start with amount from personal allowance\n",
    "* Show equivalence between each rate increase\n"
   ]
  },
  {
   "cell_type": "code",
   "execution_count": 1,
   "metadata": {},
   "outputs": [],
   "source": [
    "from policyengine import PolicyEngineUK\n",
    "from openfisca_uk.model_api import *\n",
    "from openfisca_uk.api import *\n",
    "import numpy as np\n",
    "import pandas as pd\n",
    "import plotly.express as px\n",
    "import plotly.graph_objects as go\n",
    "from scipy.optimize import bisect\n",
    "\n",
    "uk = PolicyEngineUK()\n",
    "\n",
    "_, baseline = uk.create_microsimulations(dict(baseline_country_specific=\"NORTHERN_IRELAND\"))\n",
    "\n",
    "def get_ubi_cost(\n",
    "    adult_amount: float = 400 * 12,\n",
    "    child_amount: float = 200 * 12,\n",
    "    senior_amount: float = 100 * 12,\n",
    "):\n",
    "    in_ni = baseline.calc(\"country\", map_to=\"person\") == \"NORTHERN_IRELAND\"\n",
    "    num_adults = baseline.calc(\"is_WA_adult\")[in_ni].sum()\n",
    "    num_children = baseline.calc(\"is_child\")[in_ni].sum()\n",
    "    num_seniors = baseline.calc(\"is_SP_age\")[in_ni].sum()\n",
    "    return adult_amount * num_adults + child_amount * num_children + senior_amount * num_seniors\n",
    "\n"
   ]
  },
  {
   "cell_type": "code",
   "execution_count": 2,
   "metadata": {},
   "outputs": [],
   "source": [
    "# Silence warnings\n",
    "import warnings\n",
    "warnings.filterwarnings(\"ignore\")\n",
    "\n",
    "def ubi_ni_reform(\n",
    "    personal_allowance: float = 12_570,\n",
    "    basic_rate_addition: float = 0,\n",
    "    higher_rate_addition: float = 0,\n",
    "    additional_rate_addition: float = 0,\n",
    ") -> Reform:\n",
    "    def modify_parameters(parameters):\n",
    "        TIME_PERIOD = \"year:2022:10\"\n",
    "        rates = parameters.tax.income_tax.rates.uk.brackets\n",
    "        basic_rate = rates[0].rate\n",
    "        higher_rate = rates[1].rate\n",
    "        additional_rate = rates[2].rate\n",
    "        INSTANT = \"2022-01-01\"\n",
    "        basic_rate.update(period=TIME_PERIOD, value=basic_rate(INSTANT) + basic_rate_addition)\n",
    "        higher_rate.update(period=TIME_PERIOD, value=higher_rate(INSTANT) + higher_rate_addition)\n",
    "        additional_rate.update(period=TIME_PERIOD, value=additional_rate(INSTANT) + additional_rate_addition)\n",
    "        pa = parameters.tax.income_tax.allowances.personal_allowance.amount\n",
    "        pa.update(period=TIME_PERIOD, value=personal_allowance)\n",
    "        return parameters\n",
    "\n",
    "    class reform(Reform):\n",
    "        def apply(self):\n",
    "            self.modify_parameters(modify_parameters)\n",
    "    \n",
    "    return reform\n",
    "\n",
    "\n",
    "def get_revenue_slow_estimate(\n",
    "    personal_allowance: float,\n",
    "    basic_rate_addition: float,\n",
    "    higher_rate_addition: float,\n",
    "    additional_rate_addition: float,\n",
    ") -> float:\n",
    "    baseline, reformed = uk.create_microsimulations(dict(\n",
    "        baseline_country_specific=\"NORTHERN_IRELAND\",\n",
    "        basic_rate=0.2 + basic_rate_addition,\n",
    "        higher_rate=0.4 + higher_rate_addition,\n",
    "        add_rate=0.45 + additional_rate_addition,\n",
    "        personal_allowance=personal_allowance,\n",
    "    ))\n",
    "    return baseline.calc(\"household_net_income\").sum() - reformed.calc(\"household_net_income\").sum()\n",
    "\n",
    "def get_revenue_quick_estimate(\n",
    "    personal_allowance: float,\n",
    "    basic_rate_addition: float,\n",
    "    higher_rate_addition: float,\n",
    "    additional_rate_addition: float,\n",
    ") -> float:\n",
    "    income = baseline.calc(\"adjusted_net_income\")\n",
    "    weight = income.weights\n",
    "    add_rate_income = np.maximum(0, income - 150_000)\n",
    "    higher_rate_income = np.maximum(0, income - 50_270) - add_rate_income\n",
    "    basic_rate_income_b = np.maximum(0, income - higher_rate_income - add_rate_income - 12_570)\n",
    "    basic_rate_income_r = np.maximum(0, income - higher_rate_income - add_rate_income - personal_allowance)\n",
    "    basic_rate_increased_tax = (\n",
    "        basic_rate_income_r * (0.2 + basic_rate_addition)\n",
    "        - basic_rate_income_b * 0.2\n",
    "    )\n",
    "    higher_rate_increased_tax = baseline.calc(\"higher_rate_earned_income\").values * higher_rate_addition\n",
    "    additional_rate_increased_tax = baseline.calc(\"add_rate_earned_income\").values * additional_rate_addition\n",
    "    increased_tax = basic_rate_increased_tax + higher_rate_increased_tax + additional_rate_increased_tax\n",
    "    return (increased_tax * weight).sum()\n",
    "\n",
    "def solve_rates(\n",
    "    adult_ubi: float = 0,\n",
    "    personal_allowance: float = 12_570,\n",
    "    higher_rate_ratio: float = 1,\n",
    "    additional_rate_ratio: float = 1,\n",
    "):\n",
    "    def adjusted_reform_cost(\n",
    "        basic_rate_addition: float = 0,\n",
    "    ) -> float:\n",
    "        \"\"\"adjusted_reform = ubi_ni_reform(\n",
    "            personal_allowance=personal_allowance,\n",
    "            basic_rate_addition=basic_rate_addition,\n",
    "            higher_rate_addition=higher_rate_ratio * basic_rate_addition,\n",
    "            additional_rate_addition=additional_rate_ratio * basic_rate_addition,\n",
    "        )\"\"\"\n",
    "        adjusted_revenue = get_revenue_quick_estimate(personal_allowance, basic_rate_addition, basic_rate_addition * higher_rate_ratio, basic_rate_addition * additional_rate_ratio)\n",
    "        ubi_cost = get_ubi_cost(adult_ubi, adult_ubi * 0.5, adult_ubi)\n",
    "        return ubi_cost - adjusted_revenue\n",
    "    \n",
    "    return bisect(adjusted_reform_cost, -1, 1, xtol=1e-3)"
   ]
  },
  {
   "cell_type": "code",
   "execution_count": 3,
   "metadata": {},
   "outputs": [
    {
     "name": "stderr",
     "output_type": "stream",
     "text": [
      "100%|██████████| 14/14 [00:20<00:00,  1.46s/it]\n"
     ]
    }
   ],
   "source": [
    "import numpy as np\n",
    "from tqdm import tqdm\n",
    "\n",
    "headline_ubi_rates = []\n",
    "personal_allowances = []\n",
    "basic_rate_additions = []\n",
    "higher_add_addition_ratios = []\n",
    "\n",
    "for pa in tqdm([12_570] + list(range(12_000, -1000, -1000))):\n",
    "    for ubi_rate in list([200 * 12, 300 * 12, 400 * 12]):\n",
    "        for higher_add_ratio in list((0, 1, 2)):\n",
    "            headline_ubi_rates.append(ubi_rate)\n",
    "            personal_allowances.append(pa)\n",
    "            basic_rate_additions.append(solve_rates(adult_ubi=ubi_rate, personal_allowance=pa, higher_rate_ratio=higher_add_ratio, additional_rate_ratio=higher_add_ratio))\n",
    "            higher_add_addition_ratios.append(higher_add_ratio)"
   ]
  },
  {
   "cell_type": "code",
   "execution_count": 4,
   "metadata": {},
   "outputs": [
    {
     "data": {
      "application/vnd.plotly.v1+json": {
       "config": {
        "displayModeBar": false,
        "plotlyServerURL": "https://plot.ly"
       },
       "data": [
        {
         "customdata": [
          [
           "A £2,400 UBI and £12,570 Personal Allowance can be made <br>budget neutral by setting the basic, higher and additional rates<br> to 53%, 40% and 45% respectively."
          ],
          [
           "A £2,400 UBI and £12,000 Personal Allowance can be made <br>budget neutral by setting the basic, higher and additional rates<br> to 51%, 40% and 45% respectively."
          ],
          [
           "A £2,400 UBI and £11,000 Personal Allowance can be made <br>budget neutral by setting the basic, higher and additional rates<br> to 48%, 40% and 45% respectively."
          ],
          [
           "A £2,400 UBI and £10,000 Personal Allowance can be made <br>budget neutral by setting the basic, higher and additional rates<br> to 45%, 40% and 45% respectively."
          ],
          [
           "A £2,400 UBI and £9,000 Personal Allowance can be made <br>budget neutral by setting the basic, higher and additional rates<br> to 42%, 40% and 45% respectively."
          ],
          [
           "A £2,400 UBI and £8,000 Personal Allowance can be made <br>budget neutral by setting the basic, higher and additional rates<br> to 39%, 40% and 45% respectively."
          ],
          [
           "A £2,400 UBI and £7,000 Personal Allowance can be made <br>budget neutral by setting the basic, higher and additional rates<br> to 37%, 40% and 45% respectively."
          ],
          [
           "A £2,400 UBI and £6,000 Personal Allowance can be made <br>budget neutral by setting the basic, higher and additional rates<br> to 35%, 40% and 45% respectively."
          ],
          [
           "A £2,400 UBI and £5,000 Personal Allowance can be made <br>budget neutral by setting the basic, higher and additional rates<br> to 32%, 40% and 45% respectively."
          ],
          [
           "A £2,400 UBI and £4,000 Personal Allowance can be made <br>budget neutral by setting the basic, higher and additional rates<br> to 31%, 40% and 45% respectively."
          ],
          [
           "A £2,400 UBI and £3,000 Personal Allowance can be made <br>budget neutral by setting the basic, higher and additional rates<br> to 29%, 40% and 45% respectively."
          ],
          [
           "A £2,400 UBI and £2,000 Personal Allowance can be made <br>budget neutral by setting the basic, higher and additional rates<br> to 28%, 40% and 45% respectively."
          ],
          [
           "A £2,400 UBI and £1,000 Personal Allowance can be made <br>budget neutral by setting the basic, higher and additional rates<br> to 26%, 40% and 45% respectively."
          ],
          [
           "A £2,400 UBI and £0 Personal Allowance can be made <br>budget neutral by setting the basic, higher and additional rates<br> to 25%, 40% and 45% respectively."
          ]
         ],
         "hovertemplate": "%{customdata[0]}",
         "legendgroup": "0%                        ",
         "line": {
          "color": "#ABCEEB",
          "dash": "solid"
         },
         "marker": {
          "symbol": "circle"
         },
         "mode": "lines",
         "name": "0%                        ",
         "orientation": "v",
         "showlegend": true,
         "type": "scatter",
         "x": [
          32.91015625,
          30.76171875,
          27.63671875,
          24.51171875,
          21.77734375,
          19.23828125,
          16.69921875,
          14.55078125,
          12.40234375,
          10.64453125,
          8.88671875,
          7.51953125,
          6.15234375,
          4.78515625
         ],
         "xaxis": "x",
         "y": [
          0,
          570,
          1570,
          2570,
          3570,
          4570,
          5570,
          6570,
          7570,
          8570,
          9570,
          10570,
          11570,
          12570
         ],
         "yaxis": "y"
        },
        {
         "customdata": [
          [
           "A £2,400 UBI and £10,000 Personal Allowance can be made <br>budget neutral by setting the basic, higher and additional rates<br> to 43%, 63% and 68% respectively."
          ],
          [
           "A £2,400 UBI and £9,000 Personal Allowance can be made <br>budget neutral by setting the basic, higher and additional rates<br> to 40%, 60% and 65% respectively."
          ],
          [
           "A £2,400 UBI and £8,000 Personal Allowance can be made <br>budget neutral by setting the basic, higher and additional rates<br> to 38%, 58% and 63% respectively."
          ],
          [
           "A £2,400 UBI and £7,000 Personal Allowance can be made <br>budget neutral by setting the basic, higher and additional rates<br> to 36%, 56% and 61% respectively."
          ],
          [
           "A £2,400 UBI and £6,000 Personal Allowance can be made <br>budget neutral by setting the basic, higher and additional rates<br> to 34%, 54% and 59% respectively."
          ],
          [
           "A £2,400 UBI and £5,000 Personal Allowance can be made <br>budget neutral by setting the basic, higher and additional rates<br> to 32%, 52% and 57% respectively."
          ],
          [
           "A £2,400 UBI and £4,000 Personal Allowance can be made <br>budget neutral by setting the basic, higher and additional rates<br> to 30%, 50% and 55% respectively."
          ],
          [
           "A £2,400 UBI and £3,000 Personal Allowance can be made <br>budget neutral by setting the basic, higher and additional rates<br> to 28%, 48% and 53% respectively."
          ],
          [
           "A £2,400 UBI and £2,000 Personal Allowance can be made <br>budget neutral by setting the basic, higher and additional rates<br> to 27%, 47% and 52% respectively."
          ],
          [
           "A £2,400 UBI and £1,000 Personal Allowance can be made <br>budget neutral by setting the basic, higher and additional rates<br> to 26%, 46% and 51% respectively."
          ],
          [
           "A £2,400 UBI and £0 Personal Allowance can be made <br>budget neutral by setting the basic, higher and additional rates<br> to 25%, 45% and 50% respectively."
          ]
         ],
         "hovertemplate": "%{customdata[0]}",
         "legendgroup": "100%                        ",
         "line": {
          "color": "#49A6E2",
          "dash": "solid"
         },
         "marker": {
          "symbol": "circle"
         },
         "mode": "lines",
         "name": "100%                        ",
         "orientation": "v",
         "showlegend": false,
         "type": "scatter",
         "x": [
          22.75390625,
          20.21484375,
          17.87109375,
          15.72265625,
          13.76953125,
          11.81640625,
          10.05859375,
          8.49609375,
          7.12890625,
          5.76171875,
          4.58984375
         ],
         "xaxis": "x",
         "y": [
          2570,
          3570,
          4570,
          5570,
          6570,
          7570,
          8570,
          9570,
          10570,
          11570,
          12570
         ],
         "yaxis": "y"
        },
        {
         "customdata": [
          [
           "A £2,400 UBI and £5,000 Personal Allowance can be made <br>budget neutral by setting the basic, higher and additional rates<br> to 31%, 62% and 67% respectively."
          ],
          [
           "A £2,400 UBI and £4,000 Personal Allowance can be made <br>budget neutral by setting the basic, higher and additional rates<br> to 30%, 59% and 64% respectively."
          ],
          [
           "A £2,400 UBI and £3,000 Personal Allowance can be made <br>budget neutral by setting the basic, higher and additional rates<br> to 28%, 56% and 61% respectively."
          ],
          [
           "A £2,400 UBI and £2,000 Personal Allowance can be made <br>budget neutral by setting the basic, higher and additional rates<br> to 27%, 53% and 58% respectively."
          ],
          [
           "A £2,400 UBI and £1,000 Personal Allowance can be made <br>budget neutral by setting the basic, higher and additional rates<br> to 26%, 51% and 56% respectively."
          ],
          [
           "A £2,400 UBI and £0 Personal Allowance can be made <br>budget neutral by setting the basic, higher and additional rates<br> to 24%, 49% and 54% respectively."
          ]
         ],
         "hovertemplate": "%{customdata[0]}",
         "legendgroup": "200%                        ",
         "line": {
          "color": "#1976D2",
          "dash": "solid"
         },
         "marker": {
          "symbol": "circle"
         },
         "mode": "lines",
         "name": "200%                        ",
         "orientation": "v",
         "showlegend": false,
         "type": "scatter",
         "x": [
          11.23046875,
          9.66796875,
          8.10546875,
          6.73828125,
          5.56640625,
          4.39453125
         ],
         "xaxis": "x",
         "y": [
          7570,
          8570,
          9570,
          10570,
          11570,
          12570
         ],
         "yaxis": "y"
        },
        {
         "customdata": [
          [
           "A £3,600 UBI and £12,570 Personal Allowance can be made <br>budget neutral by setting the basic, higher and additional rates<br> to 69%, 40% and 45% respectively."
          ],
          [
           "A £3,600 UBI and £12,000 Personal Allowance can be made <br>budget neutral by setting the basic, higher and additional rates<br> to 67%, 40% and 45% respectively."
          ],
          [
           "A £3,600 UBI and £11,000 Personal Allowance can be made <br>budget neutral by setting the basic, higher and additional rates<br> to 62%, 40% and 45% respectively."
          ],
          [
           "A £3,600 UBI and £10,000 Personal Allowance can be made <br>budget neutral by setting the basic, higher and additional rates<br> to 58%, 40% and 45% respectively."
          ],
          [
           "A £3,600 UBI and £9,000 Personal Allowance can be made <br>budget neutral by setting the basic, higher and additional rates<br> to 55%, 40% and 45% respectively."
          ],
          [
           "A £3,600 UBI and £8,000 Personal Allowance can be made <br>budget neutral by setting the basic, higher and additional rates<br> to 51%, 40% and 45% respectively."
          ],
          [
           "A £3,600 UBI and £7,000 Personal Allowance can be made <br>budget neutral by setting the basic, higher and additional rates<br> to 48%, 40% and 45% respectively."
          ],
          [
           "A £3,600 UBI and £6,000 Personal Allowance can be made <br>budget neutral by setting the basic, higher and additional rates<br> to 45%, 40% and 45% respectively."
          ],
          [
           "A £3,600 UBI and £5,000 Personal Allowance can be made <br>budget neutral by setting the basic, higher and additional rates<br> to 43%, 40% and 45% respectively."
          ],
          [
           "A £3,600 UBI and £4,000 Personal Allowance can be made <br>budget neutral by setting the basic, higher and additional rates<br> to 40%, 40% and 45% respectively."
          ],
          [
           "A £3,600 UBI and £3,000 Personal Allowance can be made <br>budget neutral by setting the basic, higher and additional rates<br> to 38%, 40% and 45% respectively."
          ],
          [
           "A £3,600 UBI and £2,000 Personal Allowance can be made <br>budget neutral by setting the basic, higher and additional rates<br> to 36%, 40% and 45% respectively."
          ],
          [
           "A £3,600 UBI and £1,000 Personal Allowance can be made <br>budget neutral by setting the basic, higher and additional rates<br> to 34%, 40% and 45% respectively."
          ],
          [
           "A £3,600 UBI and £0 Personal Allowance can be made <br>budget neutral by setting the basic, higher and additional rates<br> to 33%, 40% and 45% respectively."
          ]
         ],
         "hovertemplate": "%{customdata[0]}",
         "legendgroup": "0%                                    ",
         "line": {
          "color": "#ABCEEB",
          "dash": "solid"
         },
         "marker": {
          "symbol": "circle"
         },
         "mode": "lines",
         "name": "0%                                    ",
         "orientation": "v",
         "showlegend": false,
         "type": "scatter",
         "x": [
          49.31640625,
          46.58203125,
          42.28515625,
          38.37890625,
          34.86328125,
          31.34765625,
          28.22265625,
          25.29296875,
          22.55859375,
          20.21484375,
          18.06640625,
          15.91796875,
          14.16015625,
          12.59765625
         ],
         "xaxis": "x",
         "y": [
          0,
          570,
          1570,
          2570,
          3570,
          4570,
          5570,
          6570,
          7570,
          8570,
          9570,
          10570,
          11570,
          12570
         ],
         "yaxis": "y"
        },
        {
         "customdata": [
          [
           "A £3,600 UBI and £6,000 Personal Allowance can be made <br>budget neutral by setting the basic, higher and additional rates<br> to 44%, 64% and 69% respectively."
          ],
          [
           "A £3,600 UBI and £5,000 Personal Allowance can be made <br>budget neutral by setting the basic, higher and additional rates<br> to 41%, 61% and 66% respectively."
          ],
          [
           "A £3,600 UBI and £4,000 Personal Allowance can be made <br>budget neutral by setting the basic, higher and additional rates<br> to 39%, 59% and 64% respectively."
          ],
          [
           "A £3,600 UBI and £3,000 Personal Allowance can be made <br>budget neutral by setting the basic, higher and additional rates<br> to 37%, 57% and 62% respectively."
          ],
          [
           "A £3,600 UBI and £2,000 Personal Allowance can be made <br>budget neutral by setting the basic, higher and additional rates<br> to 35%, 55% and 60% respectively."
          ],
          [
           "A £3,600 UBI and £1,000 Personal Allowance can be made <br>budget neutral by setting the basic, higher and additional rates<br> to 34%, 54% and 59% respectively."
          ],
          [
           "A £3,600 UBI and £0 Personal Allowance can be made <br>budget neutral by setting the basic, higher and additional rates<br> to 32%, 52% and 57% respectively."
          ]
         ],
         "hovertemplate": "%{customdata[0]}",
         "legendgroup": "100%                                    ",
         "line": {
          "color": "#49A6E2",
          "dash": "solid"
         },
         "marker": {
          "symbol": "circle"
         },
         "mode": "lines",
         "name": "100%                                    ",
         "orientation": "v",
         "showlegend": true,
         "type": "scatter",
         "x": [
          23.73046875,
          21.38671875,
          19.04296875,
          17.08984375,
          15.33203125,
          13.57421875,
          12.01171875
         ],
         "xaxis": "x",
         "y": [
          6570,
          7570,
          8570,
          9570,
          10570,
          11570,
          12570
         ],
         "yaxis": "y"
        },
        {
         "customdata": [
          [
           "A £3,600 UBI and £0 Personal Allowance can be made <br>budget neutral by setting the basic, higher and additional rates<br> to 32%, 63% and 68% respectively."
          ]
         ],
         "hovertemplate": "%{customdata[0]}",
         "legendgroup": "200%                                    ",
         "line": {
          "color": "#1976D2",
          "dash": "solid"
         },
         "marker": {
          "symbol": "circle"
         },
         "mode": "lines",
         "name": "200%                                    ",
         "orientation": "v",
         "showlegend": false,
         "type": "scatter",
         "x": [
          11.62109375
         ],
         "xaxis": "x",
         "y": [
          12570
         ],
         "yaxis": "y"
        },
        {
         "customdata": [
          [
           "A £4,800 UBI and £12,570 Personal Allowance can be made <br>budget neutral by setting the basic, higher and additional rates<br> to 86%, 40% and 45% respectively."
          ],
          [
           "A £4,800 UBI and £12,000 Personal Allowance can be made <br>budget neutral by setting the basic, higher and additional rates<br> to 82%, 40% and 45% respectively."
          ],
          [
           "A £4,800 UBI and £11,000 Personal Allowance can be made <br>budget neutral by setting the basic, higher and additional rates<br> to 77%, 40% and 45% respectively."
          ],
          [
           "A £4,800 UBI and £10,000 Personal Allowance can be made <br>budget neutral by setting the basic, higher and additional rates<br> to 72%, 40% and 45% respectively."
          ],
          [
           "A £4,800 UBI and £9,000 Personal Allowance can be made <br>budget neutral by setting the basic, higher and additional rates<br> to 68%, 40% and 45% respectively."
          ],
          [
           "A £4,800 UBI and £8,000 Personal Allowance can be made <br>budget neutral by setting the basic, higher and additional rates<br> to 64%, 40% and 45% respectively."
          ],
          [
           "A £4,800 UBI and £7,000 Personal Allowance can be made <br>budget neutral by setting the basic, higher and additional rates<br> to 60%, 40% and 45% respectively."
          ],
          [
           "A £4,800 UBI and £6,000 Personal Allowance can be made <br>budget neutral by setting the basic, higher and additional rates<br> to 56%, 40% and 45% respectively."
          ],
          [
           "A £4,800 UBI and £5,000 Personal Allowance can be made <br>budget neutral by setting the basic, higher and additional rates<br> to 53%, 40% and 45% respectively."
          ],
          [
           "A £4,800 UBI and £4,000 Personal Allowance can be made <br>budget neutral by setting the basic, higher and additional rates<br> to 50%, 40% and 45% respectively."
          ],
          [
           "A £4,800 UBI and £3,000 Personal Allowance can be made <br>budget neutral by setting the basic, higher and additional rates<br> to 47%, 40% and 45% respectively."
          ],
          [
           "A £4,800 UBI and £2,000 Personal Allowance can be made <br>budget neutral by setting the basic, higher and additional rates<br> to 45%, 40% and 45% respectively."
          ],
          [
           "A £4,800 UBI and £1,000 Personal Allowance can be made <br>budget neutral by setting the basic, higher and additional rates<br> to 42%, 40% and 45% respectively."
          ],
          [
           "A £4,800 UBI and £0 Personal Allowance can be made <br>budget neutral by setting the basic, higher and additional rates<br> to 40%, 40% and 45% respectively."
          ]
         ],
         "hovertemplate": "%{customdata[0]}",
         "legendgroup": "0%                                                ",
         "line": {
          "color": "#ABCEEB",
          "dash": "solid"
         },
         "marker": {
          "symbol": "circle"
         },
         "mode": "lines",
         "name": "0%                                                ",
         "orientation": "v",
         "showlegend": false,
         "type": "scatter",
         "x": [
          65.72265625,
          62.40234375,
          57.12890625,
          52.24609375,
          47.75390625,
          43.65234375,
          39.74609375,
          36.03515625,
          32.71484375,
          29.58984375,
          27.05078125,
          24.51171875,
          22.36328125,
          20.41015625
         ],
         "xaxis": "x",
         "y": [
          0,
          570,
          1570,
          2570,
          3570,
          4570,
          5570,
          6570,
          7570,
          8570,
          9570,
          10570,
          11570,
          12570
         ],
         "yaxis": "y"
        },
        {
         "customdata": [
          [
           "A £4,800 UBI and £2,000 Personal Allowance can be made <br>budget neutral by setting the basic, higher and additional rates<br> to 43%, 63% and 68% respectively."
          ],
          [
           "A £4,800 UBI and £1,000 Personal Allowance can be made <br>budget neutral by setting the basic, higher and additional rates<br> to 41%, 61% and 66% respectively."
          ],
          [
           "A £4,800 UBI and £0 Personal Allowance can be made <br>budget neutral by setting the basic, higher and additional rates<br> to 39%, 59% and 64% respectively."
          ]
         ],
         "hovertemplate": "%{customdata[0]}",
         "legendgroup": "100%                                                ",
         "line": {
          "color": "#49A6E2",
          "dash": "solid"
         },
         "marker": {
          "symbol": "circle"
         },
         "mode": "lines",
         "name": "100%                                                ",
         "orientation": "v",
         "showlegend": false,
         "type": "scatter",
         "x": [
          23.33984375,
          21.38671875,
          19.43359375
         ],
         "xaxis": "x",
         "y": [
          10570,
          11570,
          12570
         ],
         "yaxis": "y"
        },
        {
         "customdata": [
          [
           "A £4,800 UBI and £0 Personal Allowance can be made <br>budget neutral by setting the basic, higher and additional rates<br> to 39%, 77% and 82% respectively."
          ]
         ],
         "hovertemplate": "%{customdata[0]}",
         "legendgroup": "200%                                                ",
         "line": {
          "color": "#1976D2",
          "dash": "solid"
         },
         "marker": {
          "symbol": "circle"
         },
         "mode": "lines",
         "name": "200%                                                ",
         "orientation": "v",
         "showlegend": true,
         "type": "scatter",
         "x": [
          18.65234375
         ],
         "xaxis": "x",
         "y": [
          12570
         ],
         "yaxis": "y"
        },
        {
         "mode": "text",
         "name": "Label",
         "showlegend": false,
         "text": [
          "£200/mo",
          "£300/mo",
          "£400/mo"
         ],
         "textposition": "bottom center",
         "type": "scatter",
         "x": [
          15,
          35,
          55
         ],
         "y": [
          1000,
          1000,
          1000
         ]
        }
       ],
       "layout": {
        "font": {
         "family": "Roboto"
        },
        "height": 600,
        "hoverlabel": {
         "align": "right"
        },
        "images": [
         {
          "sizex": 0.12,
          "sizey": 0.12,
          "source": "https://raw.githubusercontent.com/UBICenter/ubicenter.org/master/assets/images/logos/wide-blue.jpg",
          "x": 0.98,
          "xanchor": "right",
          "xref": "paper",
          "y": -0.12,
          "yanchor": "bottom",
          "yref": "paper"
         }
        ],
        "legend": {
         "title": {
          "text": "Higher/add. rate increase ratio"
         },
         "tracegroupgap": 0
        },
        "margin": {
         "t": 60
        },
        "paper_bgcolor": "white",
        "plot_bgcolor": "white",
        "template": {
         "data": {
          "bar": [
           {
            "error_x": {
             "color": "#2a3f5f"
            },
            "error_y": {
             "color": "#2a3f5f"
            },
            "marker": {
             "line": {
              "color": "#E5ECF6",
              "width": 0.5
             },
             "pattern": {
              "fillmode": "overlay",
              "size": 10,
              "solidity": 0.2
             }
            },
            "type": "bar"
           }
          ],
          "barpolar": [
           {
            "marker": {
             "line": {
              "color": "#E5ECF6",
              "width": 0.5
             },
             "pattern": {
              "fillmode": "overlay",
              "size": 10,
              "solidity": 0.2
             }
            },
            "type": "barpolar"
           }
          ],
          "carpet": [
           {
            "aaxis": {
             "endlinecolor": "#2a3f5f",
             "gridcolor": "white",
             "linecolor": "white",
             "minorgridcolor": "white",
             "startlinecolor": "#2a3f5f"
            },
            "baxis": {
             "endlinecolor": "#2a3f5f",
             "gridcolor": "white",
             "linecolor": "white",
             "minorgridcolor": "white",
             "startlinecolor": "#2a3f5f"
            },
            "type": "carpet"
           }
          ],
          "choropleth": [
           {
            "colorbar": {
             "outlinewidth": 0,
             "ticks": ""
            },
            "type": "choropleth"
           }
          ],
          "contour": [
           {
            "colorbar": {
             "outlinewidth": 0,
             "ticks": ""
            },
            "colorscale": [
             [
              0,
              "#0d0887"
             ],
             [
              0.1111111111111111,
              "#46039f"
             ],
             [
              0.2222222222222222,
              "#7201a8"
             ],
             [
              0.3333333333333333,
              "#9c179e"
             ],
             [
              0.4444444444444444,
              "#bd3786"
             ],
             [
              0.5555555555555556,
              "#d8576b"
             ],
             [
              0.6666666666666666,
              "#ed7953"
             ],
             [
              0.7777777777777778,
              "#fb9f3a"
             ],
             [
              0.8888888888888888,
              "#fdca26"
             ],
             [
              1,
              "#f0f921"
             ]
            ],
            "type": "contour"
           }
          ],
          "contourcarpet": [
           {
            "colorbar": {
             "outlinewidth": 0,
             "ticks": ""
            },
            "type": "contourcarpet"
           }
          ],
          "heatmap": [
           {
            "colorbar": {
             "outlinewidth": 0,
             "ticks": ""
            },
            "colorscale": [
             [
              0,
              "#0d0887"
             ],
             [
              0.1111111111111111,
              "#46039f"
             ],
             [
              0.2222222222222222,
              "#7201a8"
             ],
             [
              0.3333333333333333,
              "#9c179e"
             ],
             [
              0.4444444444444444,
              "#bd3786"
             ],
             [
              0.5555555555555556,
              "#d8576b"
             ],
             [
              0.6666666666666666,
              "#ed7953"
             ],
             [
              0.7777777777777778,
              "#fb9f3a"
             ],
             [
              0.8888888888888888,
              "#fdca26"
             ],
             [
              1,
              "#f0f921"
             ]
            ],
            "type": "heatmap"
           }
          ],
          "heatmapgl": [
           {
            "colorbar": {
             "outlinewidth": 0,
             "ticks": ""
            },
            "colorscale": [
             [
              0,
              "#0d0887"
             ],
             [
              0.1111111111111111,
              "#46039f"
             ],
             [
              0.2222222222222222,
              "#7201a8"
             ],
             [
              0.3333333333333333,
              "#9c179e"
             ],
             [
              0.4444444444444444,
              "#bd3786"
             ],
             [
              0.5555555555555556,
              "#d8576b"
             ],
             [
              0.6666666666666666,
              "#ed7953"
             ],
             [
              0.7777777777777778,
              "#fb9f3a"
             ],
             [
              0.8888888888888888,
              "#fdca26"
             ],
             [
              1,
              "#f0f921"
             ]
            ],
            "type": "heatmapgl"
           }
          ],
          "histogram": [
           {
            "marker": {
             "pattern": {
              "fillmode": "overlay",
              "size": 10,
              "solidity": 0.2
             }
            },
            "type": "histogram"
           }
          ],
          "histogram2d": [
           {
            "colorbar": {
             "outlinewidth": 0,
             "ticks": ""
            },
            "colorscale": [
             [
              0,
              "#0d0887"
             ],
             [
              0.1111111111111111,
              "#46039f"
             ],
             [
              0.2222222222222222,
              "#7201a8"
             ],
             [
              0.3333333333333333,
              "#9c179e"
             ],
             [
              0.4444444444444444,
              "#bd3786"
             ],
             [
              0.5555555555555556,
              "#d8576b"
             ],
             [
              0.6666666666666666,
              "#ed7953"
             ],
             [
              0.7777777777777778,
              "#fb9f3a"
             ],
             [
              0.8888888888888888,
              "#fdca26"
             ],
             [
              1,
              "#f0f921"
             ]
            ],
            "type": "histogram2d"
           }
          ],
          "histogram2dcontour": [
           {
            "colorbar": {
             "outlinewidth": 0,
             "ticks": ""
            },
            "colorscale": [
             [
              0,
              "#0d0887"
             ],
             [
              0.1111111111111111,
              "#46039f"
             ],
             [
              0.2222222222222222,
              "#7201a8"
             ],
             [
              0.3333333333333333,
              "#9c179e"
             ],
             [
              0.4444444444444444,
              "#bd3786"
             ],
             [
              0.5555555555555556,
              "#d8576b"
             ],
             [
              0.6666666666666666,
              "#ed7953"
             ],
             [
              0.7777777777777778,
              "#fb9f3a"
             ],
             [
              0.8888888888888888,
              "#fdca26"
             ],
             [
              1,
              "#f0f921"
             ]
            ],
            "type": "histogram2dcontour"
           }
          ],
          "mesh3d": [
           {
            "colorbar": {
             "outlinewidth": 0,
             "ticks": ""
            },
            "type": "mesh3d"
           }
          ],
          "parcoords": [
           {
            "line": {
             "colorbar": {
              "outlinewidth": 0,
              "ticks": ""
             }
            },
            "type": "parcoords"
           }
          ],
          "pie": [
           {
            "automargin": true,
            "type": "pie"
           }
          ],
          "scatter": [
           {
            "marker": {
             "colorbar": {
              "outlinewidth": 0,
              "ticks": ""
             }
            },
            "type": "scatter"
           }
          ],
          "scatter3d": [
           {
            "line": {
             "colorbar": {
              "outlinewidth": 0,
              "ticks": ""
             }
            },
            "marker": {
             "colorbar": {
              "outlinewidth": 0,
              "ticks": ""
             }
            },
            "type": "scatter3d"
           }
          ],
          "scattercarpet": [
           {
            "marker": {
             "colorbar": {
              "outlinewidth": 0,
              "ticks": ""
             }
            },
            "type": "scattercarpet"
           }
          ],
          "scattergeo": [
           {
            "marker": {
             "colorbar": {
              "outlinewidth": 0,
              "ticks": ""
             }
            },
            "type": "scattergeo"
           }
          ],
          "scattergl": [
           {
            "marker": {
             "colorbar": {
              "outlinewidth": 0,
              "ticks": ""
             }
            },
            "type": "scattergl"
           }
          ],
          "scattermapbox": [
           {
            "marker": {
             "colorbar": {
              "outlinewidth": 0,
              "ticks": ""
             }
            },
            "type": "scattermapbox"
           }
          ],
          "scatterpolar": [
           {
            "marker": {
             "colorbar": {
              "outlinewidth": 0,
              "ticks": ""
             }
            },
            "type": "scatterpolar"
           }
          ],
          "scatterpolargl": [
           {
            "marker": {
             "colorbar": {
              "outlinewidth": 0,
              "ticks": ""
             }
            },
            "type": "scatterpolargl"
           }
          ],
          "scatterternary": [
           {
            "marker": {
             "colorbar": {
              "outlinewidth": 0,
              "ticks": ""
             }
            },
            "type": "scatterternary"
           }
          ],
          "surface": [
           {
            "colorbar": {
             "outlinewidth": 0,
             "ticks": ""
            },
            "colorscale": [
             [
              0,
              "#0d0887"
             ],
             [
              0.1111111111111111,
              "#46039f"
             ],
             [
              0.2222222222222222,
              "#7201a8"
             ],
             [
              0.3333333333333333,
              "#9c179e"
             ],
             [
              0.4444444444444444,
              "#bd3786"
             ],
             [
              0.5555555555555556,
              "#d8576b"
             ],
             [
              0.6666666666666666,
              "#ed7953"
             ],
             [
              0.7777777777777778,
              "#fb9f3a"
             ],
             [
              0.8888888888888888,
              "#fdca26"
             ],
             [
              1,
              "#f0f921"
             ]
            ],
            "type": "surface"
           }
          ],
          "table": [
           {
            "cells": {
             "fill": {
              "color": "#EBF0F8"
             },
             "line": {
              "color": "white"
             }
            },
            "header": {
             "fill": {
              "color": "#C8D4E3"
             },
             "line": {
              "color": "white"
             }
            },
            "type": "table"
           }
          ]
         },
         "layout": {
          "annotationdefaults": {
           "arrowcolor": "#2a3f5f",
           "arrowhead": 0,
           "arrowwidth": 1
          },
          "autotypenumbers": "strict",
          "coloraxis": {
           "colorbar": {
            "outlinewidth": 0,
            "ticks": ""
           }
          },
          "colorscale": {
           "diverging": [
            [
             0,
             "#8e0152"
            ],
            [
             0.1,
             "#c51b7d"
            ],
            [
             0.2,
             "#de77ae"
            ],
            [
             0.3,
             "#f1b6da"
            ],
            [
             0.4,
             "#fde0ef"
            ],
            [
             0.5,
             "#f7f7f7"
            ],
            [
             0.6,
             "#e6f5d0"
            ],
            [
             0.7,
             "#b8e186"
            ],
            [
             0.8,
             "#7fbc41"
            ],
            [
             0.9,
             "#4d9221"
            ],
            [
             1,
             "#276419"
            ]
           ],
           "sequential": [
            [
             0,
             "#0d0887"
            ],
            [
             0.1111111111111111,
             "#46039f"
            ],
            [
             0.2222222222222222,
             "#7201a8"
            ],
            [
             0.3333333333333333,
             "#9c179e"
            ],
            [
             0.4444444444444444,
             "#bd3786"
            ],
            [
             0.5555555555555556,
             "#d8576b"
            ],
            [
             0.6666666666666666,
             "#ed7953"
            ],
            [
             0.7777777777777778,
             "#fb9f3a"
            ],
            [
             0.8888888888888888,
             "#fdca26"
            ],
            [
             1,
             "#f0f921"
            ]
           ],
           "sequentialminus": [
            [
             0,
             "#0d0887"
            ],
            [
             0.1111111111111111,
             "#46039f"
            ],
            [
             0.2222222222222222,
             "#7201a8"
            ],
            [
             0.3333333333333333,
             "#9c179e"
            ],
            [
             0.4444444444444444,
             "#bd3786"
            ],
            [
             0.5555555555555556,
             "#d8576b"
            ],
            [
             0.6666666666666666,
             "#ed7953"
            ],
            [
             0.7777777777777778,
             "#fb9f3a"
            ],
            [
             0.8888888888888888,
             "#fdca26"
            ],
            [
             1,
             "#f0f921"
            ]
           ]
          },
          "colorway": [
           "#636efa",
           "#EF553B",
           "#00cc96",
           "#ab63fa",
           "#FFA15A",
           "#19d3f3",
           "#FF6692",
           "#B6E880",
           "#FF97FF",
           "#FECB52"
          ],
          "font": {
           "color": "#2a3f5f"
          },
          "geo": {
           "bgcolor": "white",
           "lakecolor": "white",
           "landcolor": "#E5ECF6",
           "showlakes": true,
           "showland": true,
           "subunitcolor": "white"
          },
          "hoverlabel": {
           "align": "left"
          },
          "hovermode": "closest",
          "mapbox": {
           "style": "light"
          },
          "paper_bgcolor": "white",
          "plot_bgcolor": "#E5ECF6",
          "polar": {
           "angularaxis": {
            "gridcolor": "white",
            "linecolor": "white",
            "ticks": ""
           },
           "bgcolor": "#E5ECF6",
           "radialaxis": {
            "gridcolor": "white",
            "linecolor": "white",
            "ticks": ""
           }
          },
          "scene": {
           "xaxis": {
            "backgroundcolor": "#E5ECF6",
            "gridcolor": "white",
            "gridwidth": 2,
            "linecolor": "white",
            "showbackground": true,
            "ticks": "",
            "zerolinecolor": "white"
           },
           "yaxis": {
            "backgroundcolor": "#E5ECF6",
            "gridcolor": "white",
            "gridwidth": 2,
            "linecolor": "white",
            "showbackground": true,
            "ticks": "",
            "zerolinecolor": "white"
           },
           "zaxis": {
            "backgroundcolor": "#E5ECF6",
            "gridcolor": "white",
            "gridwidth": 2,
            "linecolor": "white",
            "showbackground": true,
            "ticks": "",
            "zerolinecolor": "white"
           }
          },
          "shapedefaults": {
           "line": {
            "color": "#2a3f5f"
           }
          },
          "ternary": {
           "aaxis": {
            "gridcolor": "white",
            "linecolor": "white",
            "ticks": ""
           },
           "baxis": {
            "gridcolor": "white",
            "linecolor": "white",
            "ticks": ""
           },
           "bgcolor": "#E5ECF6",
           "caxis": {
            "gridcolor": "white",
            "linecolor": "white",
            "ticks": ""
           }
          },
          "title": {
           "x": 0.05
          },
          "xaxis": {
           "automargin": true,
           "gridcolor": "white",
           "linecolor": "white",
           "ticks": "",
           "title": {
            "standoff": 15
           },
           "zerolinecolor": "white",
           "zerolinewidth": 2
          },
          "yaxis": {
           "automargin": true,
           "gridcolor": "white",
           "linecolor": "white",
           "ticks": "",
           "title": {
            "standoff": 15
           },
           "zerolinecolor": "white",
           "zerolinewidth": 2
          }
         }
        },
        "title": {
         "font": {
          "size": 20
         },
         "text": "Budget neutral UBI funding models"
        },
        "width": 800,
        "xaxis": {
         "anchor": "y",
         "domain": [
          0,
          1
         ],
         "range": [
          0,
          60
         ],
         "tickfont": {
          "size": 14
         },
         "tickformat": "+.0f",
         "tickprefix": "+",
         "ticksuffix": "p",
         "title": {
          "font": {
           "color": "black",
           "size": 16
          },
          "text": "Basic rate addition"
         }
        },
        "yaxis": {
         "anchor": "x",
         "domain": [
          0,
          1
         ],
         "range": [
          0,
          12570
         ],
         "tickfont": {
          "size": 14
         },
         "tickformat": ",.0f",
         "tickprefix": "£",
         "title": {
          "font": {
           "color": "black",
           "size": 16
          },
          "text": "Personal Allowance reduction"
         }
        }
       }
      }
     },
     "metadata": {},
     "output_type": "display_data"
    }
   ],
   "source": [
    "import plotly.express as px\n",
    "from ubicenter import format_fig\n",
    "from ubicenter.plotly import BLUE_COLOR_SEQUENCE\n",
    "import pandas as pd\n",
    "\n",
    "df = pd.DataFrame({\n",
    "    \"Adult UBI\": headline_ubi_rates,\n",
    "    \"Personal Allowance\": personal_allowances,\n",
    "    \"Basic rate addition\": basic_rate_additions,\n",
    "    \"Higher/additional rate increase ratio\": higher_add_addition_ratios,\n",
    "})\n",
    "df[\"Personal Allowance reduction\"] = 12_570 - df[\"Personal Allowance\"]\n",
    "df[\"Higher rate addition\"] = df[\"Basic rate addition\"] * df[\"Higher/additional rate increase ratio\"]\n",
    "df[\"Basic rate addition (x100)\"] = df[\"Basic rate addition\"] * 100\n",
    "df[\"Additional rate addition\"] = df[\"Basic rate addition\"] * df[\"Higher/additional rate increase ratio\"]\n",
    "df[\"UBI/Increase ratio combination\"] = [\n",
    "    f\"{higher_add_ratio:.0%}\" + \" \" * (ubi // 100)\n",
    "    for ubi, higher_add_ratio in zip(\n",
    "        df[\"Adult UBI\"],\n",
    "        df[\"Higher/additional rate increase ratio\"],\n",
    "    )\n",
    "]\n",
    "df[\"Label\"] = [\n",
    "    f\"A £{ubi:,.0f} UBI and £{pa:,.0f} Personal Allowance can be made <br>budget neutral by setting the basic, higher and additional rates<br> to {0.2 + basic_rate_addition:.0%}, {0.4 + higher_rate_addition:.0%} and {0.45 + additional_rate_addition:.0%} respectively.\"\n",
    "    for ubi, pa, basic_rate_addition, higher_rate_addition, additional_rate_addition in zip(\n",
    "        df[\"Adult UBI\"],\n",
    "        df[\"Personal Allowance\"],\n",
    "        df[\"Basic rate addition\"],\n",
    "        df[\"Higher rate addition\"],\n",
    "        df[\"Additional rate addition\"],\n",
    "    )\n",
    "]\n",
    "\n",
    "df = df.sort_values([\"Adult UBI\", \"Higher/additional rate increase ratio\"])\n",
    "\n",
    "df[\"Higher rate\"] = df[\"Higher rate addition\"] + 0.4\n",
    "df[\"Add. rate\"] = df[\"Additional rate addition\"] + 0.45\n",
    "df[\"PolicyEngine link\"] = [\n",
    "    f\"https://policyengine.org/uk/population-impact?basic_rate={20 + basic_rate * 100:.1f}&higher_rate={40 + higher_rate * 100:.1f}&add_rate={45 + add_rate * 100:.1f}&personal_allowance={pa}&higher_threshold=50270&adult_bi={ubi/52:.2f}&senior_bi={ubi/52:.2f}&child_bi={ubi/104:.2f}&baseline_country_specific=NORTHERN_IRELAND\"\n",
    "    for basic_rate, higher_rate, add_rate, pa, ubi in zip(\n",
    "        df[\"Basic rate addition\"],\n",
    "        df[\"Higher rate addition\"],\n",
    "        df[\"Additional rate addition\"],\n",
    "        df[\"Personal Allowance\"],\n",
    "        df[\"Adult UBI\"],\n",
    "    )\n",
    "]\n",
    "df.to_csv(\"experiment_results.csv\")\n",
    "df = df[\n",
    "    (\n",
    "        # £150k+ MTR under 100%\n",
    "        (df[\"Add. rate\"] + 0.02 < 1)\n",
    "        # £100k-150k MTR under 100%\n",
    "        & (df[\"Higher rate\"] * (\n",
    "            np.where(df[\"Personal Allowance\"] > 0, 1.5, 1)\n",
    "        ) + 0.02 < 1)\n",
    "    )\n",
    "]\n",
    "\n",
    "fig = px.line(\n",
    "    df, \n",
    "    x=\"Basic rate addition (x100)\", \n",
    "    y=\"Personal Allowance reduction\", \n",
    "    color=\"UBI/Increase ratio combination\",  \n",
    "    custom_data=[df.Label],\n",
    "    color_discrete_sequence=BLUE_COLOR_SEQUENCE[:3],\n",
    ")\n",
    "fig.update_layout(\n",
    "    xaxis_tickformat=\"+.0f\",\n",
    "    xaxis_title=\"Basic rate addition\",\n",
    "    xaxis_ticksuffix=\"p\",\n",
    "    xaxis_tickprefix=\"+\",\n",
    "    yaxis_tickprefix=\"£\",\n",
    "    yaxis_tickformat=\",.0f\",\n",
    "    yaxis_range=(0, 12_570),\n",
    "    xaxis_range=(0, 60),\n",
    "    legend_title=\"Higher/add. rate increase ratio\",\n",
    "    title=\"Budget neutral UBI funding models\",\n",
    ")\n",
    "\n",
    "CUSTOM_HOVERTEMPLATE=\"%{customdata[0]}\"\n",
    "fig.update_traces(hovertemplate=CUSTOM_HOVERTEMPLATE)\n",
    "\n",
    "for i, data in enumerate(fig.data):\n",
    "    data.hovertemplate = CUSTOM_HOVERTEMPLATE\n",
    "    if i % 4 == 0:\n",
    "        data[\"showlegend\"] = True\n",
    "    else:\n",
    "        data[\"showlegend\"] = False\n",
    "\n",
    "import plotly.graph_objects as go\n",
    "\n",
    "fig.add_trace(go.Scatter(\n",
    "    x=np.linspace(15, 55, 3),\n",
    "    y=[1_000] * 3,\n",
    "    mode=\"text\",\n",
    "    name=\"Label\",\n",
    "    text=[\"£200/mo\", \"£300/mo\", \"£400/mo\"],\n",
    "    textposition=\"bottom center\",\n",
    "    showlegend=False,\n",
    "))\n",
    "\n",
    "\n",
    "format_fig(fig)"
   ]
  },
  {
   "cell_type": "markdown",
   "metadata": {},
   "source": [
    "## Impacts of budget-neutral UBI plans\n",
    "\n",
    "* Poverty\n",
    "* Inequality\n"
   ]
  }
 ],
 "metadata": {
  "interpreter": {
   "hash": "8dfc7b25af29ff50af05ad7ef5344155df419318e539ca710572e6dd4f9023a3"
  },
  "kernelspec": {
   "display_name": "Python 3.7.11 ('policyengine')",
   "language": "python",
   "name": "python3"
  },
  "language_info": {
   "codemirror_mode": {
    "name": "ipython",
    "version": 3
   },
   "file_extension": ".py",
   "mimetype": "text/x-python",
   "name": "python",
   "nbconvert_exporter": "python",
   "pygments_lexer": "ipython3",
   "version": "3.7.11"
  },
  "vscode": {
   "interpreter": {
    "hash": "55caae88f165576005f6048bc75f34cf1d7ac8493d0614f52ff8f060439f0b27"
   }
  }
 },
 "nbformat": 4,
 "nbformat_minor": 4
}
