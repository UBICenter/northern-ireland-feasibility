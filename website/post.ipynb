{
 "cells": [
  {
   "cell_type": "markdown",
   "metadata": {},
   "source": [
    "# Northern Ireland UBI Feasibility Study\n",
    "\n",
    "*Research supported by the UBI Lab Northern Ireland.*\n",
    "\n",
    "* Amount: £200, 300, 400 per month\n",
    "* Half shares for children and pensioners\n",
    "* UBI included in neither means tests nor income tax\n",
    "* Personal tax allowance at £2k\n",
    "* Other rates from there, prioritizing higher \n",
    "\n",
    "## Tax and benefit policy in Northern Ireland\n"
   ]
  },
  {
   "cell_type": "markdown",
   "metadata": {},
   "source": [
    "## Costing the UBI\n",
    "\n",
    "* Cost of UBI up to £400 per month\n",
    "* Start with amount from personal allowance\n",
    "* Show equivalence between each rate increase\n"
   ]
  },
  {
   "cell_type": "code",
   "execution_count": 3,
   "metadata": {},
   "outputs": [],
   "source": [
    "from policyengine.countries import UK\n",
    "from openfisca_uk.model_api import *\n",
    "from openfisca_uk.api import *\n",
    "import numpy as np\n",
    "import pandas as pd\n",
    "import plotly.express as px\n",
    "import plotly.graph_objects as go\n",
    "from scipy.optimize import bisect\n",
    "\n",
    "uk = UK()\n",
    "\n",
    "_, baseline = uk._get_microsimulations(dict(baseline_country_specific=\"NORTHERN_IRELAND\"))\n",
    "\n",
    "def get_ubi_cost(\n",
    "    adult_amount: float = 400 * 12,\n",
    "    child_amount: float = 200 * 12,\n",
    "    senior_amount: float = 100 * 12,\n",
    "):\n",
    "    in_ni = uk.baseline.calc(\"country\", map_to=\"person\") == \"NORTHERN_IRELAND\"\n",
    "    num_adults = uk.baseline.calc(\"is_WA_adult\")[in_ni].sum()\n",
    "    num_children = uk.baseline.calc(\"is_child\")[in_ni].sum()\n",
    "    num_seniors = uk.baseline.calc(\"is_SP_age\")[in_ni].sum()\n",
    "    return adult_amount * num_adults + child_amount * num_children + senior_amount * num_seniors\n",
    "\n"
   ]
  },
  {
   "cell_type": "code",
   "execution_count": 19,
   "metadata": {},
   "outputs": [],
   "source": [
    "def ubi_ni_reform(\n",
    "    personal_allowance: float = 12_570,\n",
    "    basic_rate_addition: float = 0,\n",
    "    higher_rate_addition: float = 0,\n",
    "    additional_rate_addition: float = 0,\n",
    ") -> Reform:\n",
    "    def modify_parameters(parameters):\n",
    "        TIME_PERIOD = \"year:2022:10\"\n",
    "        rates = parameters.tax.income_tax.rates.uk.brackets\n",
    "        basic_rate = rates[0].rate\n",
    "        higher_rate = rates[1].rate\n",
    "        additional_rate = rates[2].rate\n",
    "        INSTANT = \"2022-01-01\"\n",
    "        basic_rate.update(period=TIME_PERIOD, value=basic_rate(INSTANT) + basic_rate_addition)\n",
    "        higher_rate.update(period=TIME_PERIOD, value=higher_rate(INSTANT) + higher_rate_addition)\n",
    "        additional_rate.update(period=TIME_PERIOD, value=additional_rate(INSTANT) + additional_rate_addition)\n",
    "        pa = parameters.tax.income_tax.allowances.personal_allowance.amount\n",
    "        pa.update(period=TIME_PERIOD, value=personal_allowance)\n",
    "        return parameters\n",
    "\n",
    "    class reform(Reform):\n",
    "        def apply(self):\n",
    "            self.modify_parameters(modify_parameters)\n",
    "    \n",
    "    return reform\n",
    "\n",
    "def get_revenue(reform: Reform) -> float:\n",
    "    baseline, reformed = uk._get_microsimulations(dict(reform=reform, baseline_country_specific=\"NORTHERN_IRELAND\"))\n",
    "    return baseline.calc(\"household_net_income\").sum() - reformed.calc(\"household_net_income\").sum()\n",
    "\n",
    "def get_revenue_quick_estimate(\n",
    "    personal_allowance: float,\n",
    "    basic_rate_addition: float,\n",
    "    higher_rate_addition: float,\n",
    "    additional_rate_addition: float,\n",
    ") -> float:\n",
    "    income = baseline.calc(\"adjusted_net_income\")\n",
    "    weight = income.weights\n",
    "    income_less_pa_b = np.maximum(0, income - 12_570)\n",
    "    income_less_pa_r = np.maximum(0, income - personal_allowance)\n",
    "    add_rate_income_b = np.maximum(0, income_less_pa_b - 150_000)\n",
    "    add_rate_income_r = np.maximum(0, income_less_pa_r - 150_000)\n",
    "    higher_rate_income_b = np.maximum(0, income_less_pa_b - 50_270) - add_rate_income_b\n",
    "    higher_rate_income_r = np.maximum(0, income_less_pa_r - 50_270) - add_rate_income_r\n",
    "    basic_rate_income_b = income_less_pa_b - higher_rate_income_b - add_rate_income_b\n",
    "    basic_rate_income_r = income_less_pa_r - higher_rate_income_r - add_rate_income_r\n",
    "    basic_rate_increased_tax = (\n",
    "        basic_rate_income_r * (0.2 + basic_rate_addition)\n",
    "        - basic_rate_income_b * 0.2\n",
    "    )\n",
    "    higher_rate_increased_tax = (\n",
    "        higher_rate_income_r * (0.4 + higher_rate_addition)\n",
    "        - higher_rate_income_b * 0.4\n",
    "    )\n",
    "    additional_rate_increased_tax = (\n",
    "        add_rate_income_r * (0.45 + additional_rate_addition)\n",
    "        - add_rate_income_b * 0.45\n",
    "    )\n",
    "    increased_tax = basic_rate_increased_tax + higher_rate_increased_tax + additional_rate_increased_tax\n",
    "    return (increased_tax * weight).sum()\n",
    "\n",
    "def solve_rates(\n",
    "    adult_ubi: float = 0,\n",
    "    personal_allowance: float = 12_570,\n",
    "    higher_rate_ratio: float = 1,\n",
    "    additional_rate_ratio: float = 1,\n",
    "):\n",
    "    def adjusted_reform_cost(\n",
    "        basic_rate_addition: float = 0,\n",
    "    ) -> float:\n",
    "        \"\"\"adjusted_reform = ubi_ni_reform(\n",
    "            personal_allowance=personal_allowance,\n",
    "            basic_rate_addition=basic_rate_addition,\n",
    "            higher_rate_addition=higher_rate_ratio * basic_rate_addition,\n",
    "            additional_rate_addition=additional_rate_ratio * basic_rate_addition,\n",
    "        )\"\"\"\n",
    "        adjusted_revenue = get_revenue_quick_estimate(personal_allowance, basic_rate_addition, basic_rate_addition * higher_rate_ratio, basic_rate_addition * additional_rate_ratio)\n",
    "        ubi_cost = get_ubi_cost(adult_ubi, adult_ubi * 0.5, adult_ubi * 0.5)\n",
    "        return ubi_cost - adjusted_revenue\n",
    "    \n",
    "    return bisect(adjusted_reform_cost, -1, 1, xtol=1e-3)"
   ]
  },
  {
   "cell_type": "code",
   "execution_count": 56,
   "metadata": {},
   "outputs": [],
   "source": [
    "import numpy as np\n",
    "from tqdm import tqdm\n",
    "\n",
    "headline_ubi_rates = []\n",
    "personal_allowances = []\n",
    "basic_rate_additions = []\n",
    "higher_add_addition_ratios = []\n",
    "\n",
    "for ubi_rate in (200 * 12, 300 * 12, 400 * 12):\n",
    "    for pa in (12_570, 10_000, 5_000, 2_000, 1_000, 0):\n",
    "        for higher_add_ratio in (1, 1.25, 1.5):\n",
    "            headline_ubi_rates.append(ubi_rate)\n",
    "            personal_allowances.append(pa)\n",
    "            basic_rate_additions.append(solve_rates(adult_ubi=ubi_rate, personal_allowance=pa, higher_rate_ratio=higher_add_ratio, additional_rate_ratio=higher_add_ratio))\n",
    "            higher_add_addition_ratios.append(higher_add_ratio)"
   ]
  },
  {
   "cell_type": "code",
   "execution_count": 57,
   "metadata": {},
   "outputs": [],
   "source": [
    "import pandas as pd\n",
    "\n",
    "df = pd.DataFrame({\n",
    "    \"Adult UBI\": headline_ubi_rates,\n",
    "    \"Personal Allowance\": personal_allowances,\n",
    "    \"Basic rate addition\": basic_rate_additions,\n",
    "    \"Higher/additional rate increase ratio\": higher_add_addition_ratios,\n",
    "})\n",
    "\n",
    "df.to_csv(\"experiment_results.csv\")"
   ]
  },
  {
   "cell_type": "code",
   "execution_count": 73,
   "metadata": {},
   "outputs": [
    {
     "data": {
      "application/vnd.plotly.v1+json": {
       "config": {
        "displayModeBar": false,
        "plotlyServerURL": "https://plot.ly"
       },
       "data": [
        {
         "customdata": [
          [
           "A £2,400 UBI and £12,570 Personal Allowance can be made <br>budget neutral by setting the basic, higher and additional rates<br> to 47%, 67% and 72% respectively."
          ],
          [
           "A £2,400 UBI and £10,000 Personal Allowance can be made <br>budget neutral by setting the basic, higher and additional rates<br> to 41%, 61% and 66% respectively."
          ],
          [
           "A £2,400 UBI and £5,000 Personal Allowance can be made <br>budget neutral by setting the basic, higher and additional rates<br> to 30%, 50% and 55% respectively."
          ],
          [
           "A £2,400 UBI and £2,000 Personal Allowance can be made <br>budget neutral by setting the basic, higher and additional rates<br> to 26%, 46% and 51% respectively."
          ],
          [
           "A £2,400 UBI and £1,000 Personal Allowance can be made <br>budget neutral by setting the basic, higher and additional rates<br> to 24%, 44% and 49% respectively."
          ],
          [
           "A £2,400 UBI and £0 Personal Allowance can be made <br>budget neutral by setting the basic, higher and additional rates<br> to 23%, 43% and 48% respectively."
          ]
         ],
         "hovertemplate": "%{customdata[0]}",
         "legendgroup": "£200 per adult per month, higher/additional ratio 100%",
         "line": {
          "color": "#636efa",
          "dash": "solid"
         },
         "marker": {
          "symbol": "circle"
         },
         "mode": "lines",
         "name": "£200 per adult per month, higher/additional ratio 100%",
         "orientation": "v",
         "showlegend": true,
         "type": "scatter",
         "x": [
          0.2724609375,
          0.2060546875,
          0.1025390625,
          0.0576171875,
          0.0439453125,
          0.0322265625
         ],
         "xaxis": "x",
         "y": [
          0,
          2570,
          7570,
          10570,
          11570,
          12570
         ],
         "yaxis": "y"
        },
        {
         "customdata": [
          [
           "A £2,400 UBI and £12,570 Personal Allowance can be made <br>budget neutral by setting the basic, higher and additional rates<br> to 46%, 73% and 78% respectively."
          ],
          [
           "A £2,400 UBI and £10,000 Personal Allowance can be made <br>budget neutral by setting the basic, higher and additional rates<br> to 40%, 65% and 70% respectively."
          ],
          [
           "A £2,400 UBI and £5,000 Personal Allowance can be made <br>budget neutral by setting the basic, higher and additional rates<br> to 30%, 53% and 58% respectively."
          ],
          [
           "A £2,400 UBI and £2,000 Personal Allowance can be made <br>budget neutral by setting the basic, higher and additional rates<br> to 26%, 47% and 52% respectively."
          ],
          [
           "A £2,400 UBI and £1,000 Personal Allowance can be made <br>budget neutral by setting the basic, higher and additional rates<br> to 24%, 45% and 50% respectively."
          ],
          [
           "A £2,400 UBI and £0 Personal Allowance can be made <br>budget neutral by setting the basic, higher and additional rates<br> to 23%, 44% and 49% respectively."
          ]
         ],
         "hovertemplate": "%{customdata[0]}",
         "legendgroup": "£200 per adult per month, higher/additional ratio 125%",
         "line": {
          "color": "#EF553B",
          "dash": "solid"
         },
         "marker": {
          "symbol": "circle"
         },
         "mode": "lines",
         "name": "£200 per adult per month, higher/additional ratio 125%",
         "orientation": "v",
         "showlegend": true,
         "type": "scatter",
         "x": [
          0.2646484375,
          0.2001953125,
          0.1005859375,
          0.0556640625,
          0.0439453125,
          0.0322265625
         ],
         "xaxis": "x",
         "y": [
          0,
          2570,
          7570,
          10570,
          11570,
          12570
         ],
         "yaxis": "y"
        },
        {
         "customdata": [
          [
           "A £2,400 UBI and £12,570 Personal Allowance can be made <br>budget neutral by setting the basic, higher and additional rates<br> to 46%, 79% and 84% respectively."
          ],
          [
           "A £2,400 UBI and £10,000 Personal Allowance can be made <br>budget neutral by setting the basic, higher and additional rates<br> to 39%, 69% and 74% respectively."
          ],
          [
           "A £2,400 UBI and £5,000 Personal Allowance can be made <br>budget neutral by setting the basic, higher and additional rates<br> to 30%, 55% and 60% respectively."
          ],
          [
           "A £2,400 UBI and £2,000 Personal Allowance can be made <br>budget neutral by setting the basic, higher and additional rates<br> to 26%, 48% and 53% respectively."
          ],
          [
           "A £2,400 UBI and £1,000 Personal Allowance can be made <br>budget neutral by setting the basic, higher and additional rates<br> to 24%, 46% and 51% respectively."
          ],
          [
           "A £2,400 UBI and £0 Personal Allowance can be made <br>budget neutral by setting the basic, higher and additional rates<br> to 23%, 45% and 50% respectively."
          ]
         ],
         "hovertemplate": "%{customdata[0]}",
         "legendgroup": "£200 per adult per month, higher/additional ratio 150%",
         "line": {
          "color": "#00cc96",
          "dash": "solid"
         },
         "marker": {
          "symbol": "circle"
         },
         "mode": "lines",
         "name": "£200 per adult per month, higher/additional ratio 150%",
         "orientation": "v",
         "showlegend": true,
         "type": "scatter",
         "x": [
          0.2568359375,
          0.1943359375,
          0.0986328125,
          0.0556640625,
          0.0419921875,
          0.0322265625
         ],
         "xaxis": "x",
         "y": [
          0,
          2570,
          7570,
          10570,
          11570,
          12570
         ],
         "yaxis": "y"
        },
        {
         "customdata": [
          [
           "A £3,600 UBI and £12,570 Personal Allowance can be made <br>budget neutral by setting the basic, higher and additional rates<br> to 61%, 81% and 86% respectively."
          ],
          [
           "A £3,600 UBI and £10,000 Personal Allowance can be made <br>budget neutral by setting the basic, higher and additional rates<br> to 52%, 72% and 77% respectively."
          ],
          [
           "A £3,600 UBI and £5,000 Personal Allowance can be made <br>budget neutral by setting the basic, higher and additional rates<br> to 39%, 59% and 64% respectively."
          ],
          [
           "A £3,600 UBI and £2,000 Personal Allowance can be made <br>budget neutral by setting the basic, higher and additional rates<br> to 33%, 53% and 58% respectively."
          ],
          [
           "A £3,600 UBI and £1,000 Personal Allowance can be made <br>budget neutral by setting the basic, higher and additional rates<br> to 32%, 52% and 57% respectively."
          ],
          [
           "A £3,600 UBI and £0 Personal Allowance can be made <br>budget neutral by setting the basic, higher and additional rates<br> to 30%, 50% and 55% respectively."
          ]
         ],
         "hovertemplate": "%{customdata[0]}",
         "legendgroup": "£300 per adult per month, higher/additional ratio 100%",
         "line": {
          "color": "#ab63fa",
          "dash": "solid"
         },
         "marker": {
          "symbol": "circle"
         },
         "mode": "lines",
         "name": "£300 per adult per month, higher/additional ratio 100%",
         "orientation": "v",
         "showlegend": true,
         "type": "scatter",
         "x": [
          0.4091796875,
          0.3232421875,
          0.1923828125,
          0.1337890625,
          0.1162109375,
          0.1025390625
         ],
         "xaxis": "x",
         "y": [
          0,
          2570,
          7570,
          10570,
          11570,
          12570
         ],
         "yaxis": "y"
        },
        {
         "customdata": [
          [
           "A £3,600 UBI and £12,570 Personal Allowance can be made <br>budget neutral by setting the basic, higher and additional rates<br> to 60%, 89% and 94% respectively."
          ],
          [
           "A £3,600 UBI and £10,000 Personal Allowance can be made <br>budget neutral by setting the basic, higher and additional rates<br> to 51%, 79% and 84% respectively."
          ],
          [
           "A £3,600 UBI and £5,000 Personal Allowance can be made <br>budget neutral by setting the basic, higher and additional rates<br> to 39%, 63% and 68% respectively."
          ],
          [
           "A £3,600 UBI and £2,000 Personal Allowance can be made <br>budget neutral by setting the basic, higher and additional rates<br> to 33%, 56% and 61% respectively."
          ],
          [
           "A £3,600 UBI and £1,000 Personal Allowance can be made <br>budget neutral by setting the basic, higher and additional rates<br> to 31%, 54% and 59% respectively."
          ],
          [
           "A £3,600 UBI and £0 Personal Allowance can be made <br>budget neutral by setting the basic, higher and additional rates<br> to 30%, 52% and 57% respectively."
          ]
         ],
         "hovertemplate": "%{customdata[0]}",
         "legendgroup": "£300 per adult per month, higher/additional ratio 125%",
         "line": {
          "color": "#FFA15A",
          "dash": "solid"
         },
         "marker": {
          "symbol": "circle"
         },
         "mode": "lines",
         "name": "£300 per adult per month, higher/additional ratio 125%",
         "orientation": "v",
         "showlegend": true,
         "type": "scatter",
         "x": [
          0.3955078125,
          0.3134765625,
          0.1865234375,
          0.1298828125,
          0.1142578125,
          0.0986328125
         ],
         "xaxis": "x",
         "y": [
          0,
          2570,
          7570,
          10570,
          11570,
          12570
         ],
         "yaxis": "y"
        },
        {
         "customdata": [
          [
           "A £3,600 UBI and £12,570 Personal Allowance can be made <br>budget neutral by setting the basic, higher and additional rates<br> to 58%, 98% and 103% respectively."
          ],
          [
           "A £3,600 UBI and £10,000 Personal Allowance can be made <br>budget neutral by setting the basic, higher and additional rates<br> to 51%, 86% and 91% respectively."
          ],
          [
           "A £3,600 UBI and £5,000 Personal Allowance can be made <br>budget neutral by setting the basic, higher and additional rates<br> to 38%, 67% and 72% respectively."
          ],
          [
           "A £3,600 UBI and £2,000 Personal Allowance can be made <br>budget neutral by setting the basic, higher and additional rates<br> to 33%, 59% and 64% respectively."
          ],
          [
           "A £3,600 UBI and £1,000 Personal Allowance can be made <br>budget neutral by setting the basic, higher and additional rates<br> to 31%, 57% and 62% respectively."
          ],
          [
           "A £3,600 UBI and £0 Personal Allowance can be made <br>budget neutral by setting the basic, higher and additional rates<br> to 30%, 55% and 60% respectively."
          ]
         ],
         "hovertemplate": "%{customdata[0]}",
         "legendgroup": "£300 per adult per month, higher/additional ratio 150%",
         "line": {
          "color": "#19d3f3",
          "dash": "solid"
         },
         "marker": {
          "symbol": "circle"
         },
         "mode": "lines",
         "name": "£300 per adult per month, higher/additional ratio 150%",
         "orientation": "v",
         "showlegend": true,
         "type": "scatter",
         "x": [
          0.3837890625,
          0.3056640625,
          0.1826171875,
          0.1279296875,
          0.1123046875,
          0.0966796875
         ],
         "xaxis": "x",
         "y": [
          0,
          2570,
          7570,
          10570,
          11570,
          12570
         ],
         "yaxis": "y"
        },
        {
         "customdata": [
          [
           "A £4,800 UBI and £12,570 Personal Allowance can be made <br>budget neutral by setting the basic, higher and additional rates<br> to 75%, 95% and 100% respectively."
          ],
          [
           "A £4,800 UBI and £10,000 Personal Allowance can be made <br>budget neutral by setting the basic, higher and additional rates<br> to 64%, 84% and 89% respectively."
          ],
          [
           "A £4,800 UBI and £5,000 Personal Allowance can be made <br>budget neutral by setting the basic, higher and additional rates<br> to 48%, 68% and 73% respectively."
          ],
          [
           "A £4,800 UBI and £2,000 Personal Allowance can be made <br>budget neutral by setting the basic, higher and additional rates<br> to 41%, 61% and 66% respectively."
          ],
          [
           "A £4,800 UBI and £1,000 Personal Allowance can be made <br>budget neutral by setting the basic, higher and additional rates<br> to 39%, 59% and 64% respectively."
          ],
          [
           "A £4,800 UBI and £0 Personal Allowance can be made <br>budget neutral by setting the basic, higher and additional rates<br> to 37%, 57% and 62% respectively."
          ]
         ],
         "hovertemplate": "%{customdata[0]}",
         "legendgroup": "£400 per adult per month, higher/additional ratio 100%",
         "line": {
          "color": "#FF6692",
          "dash": "solid"
         },
         "marker": {
          "symbol": "circle"
         },
         "mode": "lines",
         "name": "£400 per adult per month, higher/additional ratio 100%",
         "orientation": "v",
         "showlegend": true,
         "type": "scatter",
         "x": [
          0.5458984375,
          0.4404296875,
          0.2802734375,
          0.2080078125,
          0.1884765625,
          0.1708984375
         ],
         "xaxis": "x",
         "y": [
          0,
          2570,
          7570,
          10570,
          11570,
          12570
         ],
         "yaxis": "y"
        },
        {
         "customdata": [
          [
           "A £4,800 UBI and £12,570 Personal Allowance can be made <br>budget neutral by setting the basic, higher and additional rates<br> to 73%, 106% and 111% respectively."
          ],
          [
           "A £4,800 UBI and £10,000 Personal Allowance can be made <br>budget neutral by setting the basic, higher and additional rates<br> to 63%, 93% and 98% respectively."
          ],
          [
           "A £4,800 UBI and £5,000 Personal Allowance can be made <br>budget neutral by setting the basic, higher and additional rates<br> to 47%, 74% and 79% respectively."
          ],
          [
           "A £4,800 UBI and £2,000 Personal Allowance can be made <br>budget neutral by setting the basic, higher and additional rates<br> to 40%, 66% and 71% respectively."
          ],
          [
           "A £4,800 UBI and £1,000 Personal Allowance can be made <br>budget neutral by setting the basic, higher and additional rates<br> to 38%, 63% and 68% respectively."
          ],
          [
           "A £4,800 UBI and £0 Personal Allowance can be made <br>budget neutral by setting the basic, higher and additional rates<br> to 37%, 61% and 66% respectively."
          ]
         ],
         "hovertemplate": "%{customdata[0]}",
         "legendgroup": "£400 per adult per month, higher/additional ratio 125%",
         "line": {
          "color": "#B6E880",
          "dash": "solid"
         },
         "marker": {
          "symbol": "circle"
         },
         "mode": "lines",
         "name": "£400 per adult per month, higher/additional ratio 125%",
         "orientation": "v",
         "showlegend": true,
         "type": "scatter",
         "x": [
          0.5283203125,
          0.4267578125,
          0.2724609375,
          0.2041015625,
          0.1845703125,
          0.1669921875
         ],
         "xaxis": "x",
         "y": [
          0,
          2570,
          7570,
          10570,
          11570,
          12570
         ],
         "yaxis": "y"
        },
        {
         "customdata": [
          [
           "A £4,800 UBI and £12,570 Personal Allowance can be made <br>budget neutral by setting the basic, higher and additional rates<br> to 71%, 117% and 122% respectively."
          ],
          [
           "A £4,800 UBI and £10,000 Personal Allowance can be made <br>budget neutral by setting the basic, higher and additional rates<br> to 62%, 102% and 107% respectively."
          ],
          [
           "A £4,800 UBI and £5,000 Personal Allowance can be made <br>budget neutral by setting the basic, higher and additional rates<br> to 47%, 80% and 85% respectively."
          ],
          [
           "A £4,800 UBI and £2,000 Personal Allowance can be made <br>budget neutral by setting the basic, higher and additional rates<br> to 40%, 70% and 75% respectively."
          ],
          [
           "A £4,800 UBI and £1,000 Personal Allowance can be made <br>budget neutral by setting the basic, higher and additional rates<br> to 38%, 67% and 72% respectively."
          ],
          [
           "A £4,800 UBI and £0 Personal Allowance can be made <br>budget neutral by setting the basic, higher and additional rates<br> to 36%, 64% and 69% respectively."
          ]
         ],
         "hovertemplate": "%{customdata[0]}",
         "legendgroup": "£400 per adult per month, higher/additional ratio 150%",
         "line": {
          "color": "#FF97FF",
          "dash": "solid"
         },
         "marker": {
          "symbol": "circle"
         },
         "mode": "lines",
         "name": "£400 per adult per month, higher/additional ratio 150%",
         "orientation": "v",
         "showlegend": true,
         "type": "scatter",
         "x": [
          0.5126953125,
          0.4150390625,
          0.2666015625,
          0.2001953125,
          0.1806640625,
          0.1630859375
         ],
         "xaxis": "x",
         "y": [
          0,
          2570,
          7570,
          10570,
          11570,
          12570
         ],
         "yaxis": "y"
        }
       ],
       "layout": {
        "font": {
         "family": "Roboto"
        },
        "height": 600,
        "hoverlabel": {
         "align": "right"
        },
        "images": [
         {
          "sizex": 0.12,
          "sizey": 0.12,
          "source": "https://raw.githubusercontent.com/UBICenter/ubicenter.org/master/assets/images/logos/wide-blue.jpg",
          "x": 0.98,
          "xanchor": "right",
          "xref": "paper",
          "y": -0.12,
          "yanchor": "bottom",
          "yref": "paper"
         }
        ],
        "legend": {
         "title": {
          "text": "UBI/Increase ratio combination"
         },
         "tracegroupgap": 0
        },
        "margin": {
         "t": 60
        },
        "paper_bgcolor": "white",
        "plot_bgcolor": "white",
        "template": {
         "data": {
          "bar": [
           {
            "error_x": {
             "color": "#2a3f5f"
            },
            "error_y": {
             "color": "#2a3f5f"
            },
            "marker": {
             "line": {
              "color": "#E5ECF6",
              "width": 0.5
             },
             "pattern": {
              "fillmode": "overlay",
              "size": 10,
              "solidity": 0.2
             }
            },
            "type": "bar"
           }
          ],
          "barpolar": [
           {
            "marker": {
             "line": {
              "color": "#E5ECF6",
              "width": 0.5
             },
             "pattern": {
              "fillmode": "overlay",
              "size": 10,
              "solidity": 0.2
             }
            },
            "type": "barpolar"
           }
          ],
          "carpet": [
           {
            "aaxis": {
             "endlinecolor": "#2a3f5f",
             "gridcolor": "white",
             "linecolor": "white",
             "minorgridcolor": "white",
             "startlinecolor": "#2a3f5f"
            },
            "baxis": {
             "endlinecolor": "#2a3f5f",
             "gridcolor": "white",
             "linecolor": "white",
             "minorgridcolor": "white",
             "startlinecolor": "#2a3f5f"
            },
            "type": "carpet"
           }
          ],
          "choropleth": [
           {
            "colorbar": {
             "outlinewidth": 0,
             "ticks": ""
            },
            "type": "choropleth"
           }
          ],
          "contour": [
           {
            "colorbar": {
             "outlinewidth": 0,
             "ticks": ""
            },
            "colorscale": [
             [
              0,
              "#0d0887"
             ],
             [
              0.1111111111111111,
              "#46039f"
             ],
             [
              0.2222222222222222,
              "#7201a8"
             ],
             [
              0.3333333333333333,
              "#9c179e"
             ],
             [
              0.4444444444444444,
              "#bd3786"
             ],
             [
              0.5555555555555556,
              "#d8576b"
             ],
             [
              0.6666666666666666,
              "#ed7953"
             ],
             [
              0.7777777777777778,
              "#fb9f3a"
             ],
             [
              0.8888888888888888,
              "#fdca26"
             ],
             [
              1,
              "#f0f921"
             ]
            ],
            "type": "contour"
           }
          ],
          "contourcarpet": [
           {
            "colorbar": {
             "outlinewidth": 0,
             "ticks": ""
            },
            "type": "contourcarpet"
           }
          ],
          "heatmap": [
           {
            "colorbar": {
             "outlinewidth": 0,
             "ticks": ""
            },
            "colorscale": [
             [
              0,
              "#0d0887"
             ],
             [
              0.1111111111111111,
              "#46039f"
             ],
             [
              0.2222222222222222,
              "#7201a8"
             ],
             [
              0.3333333333333333,
              "#9c179e"
             ],
             [
              0.4444444444444444,
              "#bd3786"
             ],
             [
              0.5555555555555556,
              "#d8576b"
             ],
             [
              0.6666666666666666,
              "#ed7953"
             ],
             [
              0.7777777777777778,
              "#fb9f3a"
             ],
             [
              0.8888888888888888,
              "#fdca26"
             ],
             [
              1,
              "#f0f921"
             ]
            ],
            "type": "heatmap"
           }
          ],
          "heatmapgl": [
           {
            "colorbar": {
             "outlinewidth": 0,
             "ticks": ""
            },
            "colorscale": [
             [
              0,
              "#0d0887"
             ],
             [
              0.1111111111111111,
              "#46039f"
             ],
             [
              0.2222222222222222,
              "#7201a8"
             ],
             [
              0.3333333333333333,
              "#9c179e"
             ],
             [
              0.4444444444444444,
              "#bd3786"
             ],
             [
              0.5555555555555556,
              "#d8576b"
             ],
             [
              0.6666666666666666,
              "#ed7953"
             ],
             [
              0.7777777777777778,
              "#fb9f3a"
             ],
             [
              0.8888888888888888,
              "#fdca26"
             ],
             [
              1,
              "#f0f921"
             ]
            ],
            "type": "heatmapgl"
           }
          ],
          "histogram": [
           {
            "marker": {
             "pattern": {
              "fillmode": "overlay",
              "size": 10,
              "solidity": 0.2
             }
            },
            "type": "histogram"
           }
          ],
          "histogram2d": [
           {
            "colorbar": {
             "outlinewidth": 0,
             "ticks": ""
            },
            "colorscale": [
             [
              0,
              "#0d0887"
             ],
             [
              0.1111111111111111,
              "#46039f"
             ],
             [
              0.2222222222222222,
              "#7201a8"
             ],
             [
              0.3333333333333333,
              "#9c179e"
             ],
             [
              0.4444444444444444,
              "#bd3786"
             ],
             [
              0.5555555555555556,
              "#d8576b"
             ],
             [
              0.6666666666666666,
              "#ed7953"
             ],
             [
              0.7777777777777778,
              "#fb9f3a"
             ],
             [
              0.8888888888888888,
              "#fdca26"
             ],
             [
              1,
              "#f0f921"
             ]
            ],
            "type": "histogram2d"
           }
          ],
          "histogram2dcontour": [
           {
            "colorbar": {
             "outlinewidth": 0,
             "ticks": ""
            },
            "colorscale": [
             [
              0,
              "#0d0887"
             ],
             [
              0.1111111111111111,
              "#46039f"
             ],
             [
              0.2222222222222222,
              "#7201a8"
             ],
             [
              0.3333333333333333,
              "#9c179e"
             ],
             [
              0.4444444444444444,
              "#bd3786"
             ],
             [
              0.5555555555555556,
              "#d8576b"
             ],
             [
              0.6666666666666666,
              "#ed7953"
             ],
             [
              0.7777777777777778,
              "#fb9f3a"
             ],
             [
              0.8888888888888888,
              "#fdca26"
             ],
             [
              1,
              "#f0f921"
             ]
            ],
            "type": "histogram2dcontour"
           }
          ],
          "mesh3d": [
           {
            "colorbar": {
             "outlinewidth": 0,
             "ticks": ""
            },
            "type": "mesh3d"
           }
          ],
          "parcoords": [
           {
            "line": {
             "colorbar": {
              "outlinewidth": 0,
              "ticks": ""
             }
            },
            "type": "parcoords"
           }
          ],
          "pie": [
           {
            "automargin": true,
            "type": "pie"
           }
          ],
          "scatter": [
           {
            "marker": {
             "colorbar": {
              "outlinewidth": 0,
              "ticks": ""
             }
            },
            "type": "scatter"
           }
          ],
          "scatter3d": [
           {
            "line": {
             "colorbar": {
              "outlinewidth": 0,
              "ticks": ""
             }
            },
            "marker": {
             "colorbar": {
              "outlinewidth": 0,
              "ticks": ""
             }
            },
            "type": "scatter3d"
           }
          ],
          "scattercarpet": [
           {
            "marker": {
             "colorbar": {
              "outlinewidth": 0,
              "ticks": ""
             }
            },
            "type": "scattercarpet"
           }
          ],
          "scattergeo": [
           {
            "marker": {
             "colorbar": {
              "outlinewidth": 0,
              "ticks": ""
             }
            },
            "type": "scattergeo"
           }
          ],
          "scattergl": [
           {
            "marker": {
             "colorbar": {
              "outlinewidth": 0,
              "ticks": ""
             }
            },
            "type": "scattergl"
           }
          ],
          "scattermapbox": [
           {
            "marker": {
             "colorbar": {
              "outlinewidth": 0,
              "ticks": ""
             }
            },
            "type": "scattermapbox"
           }
          ],
          "scatterpolar": [
           {
            "marker": {
             "colorbar": {
              "outlinewidth": 0,
              "ticks": ""
             }
            },
            "type": "scatterpolar"
           }
          ],
          "scatterpolargl": [
           {
            "marker": {
             "colorbar": {
              "outlinewidth": 0,
              "ticks": ""
             }
            },
            "type": "scatterpolargl"
           }
          ],
          "scatterternary": [
           {
            "marker": {
             "colorbar": {
              "outlinewidth": 0,
              "ticks": ""
             }
            },
            "type": "scatterternary"
           }
          ],
          "surface": [
           {
            "colorbar": {
             "outlinewidth": 0,
             "ticks": ""
            },
            "colorscale": [
             [
              0,
              "#0d0887"
             ],
             [
              0.1111111111111111,
              "#46039f"
             ],
             [
              0.2222222222222222,
              "#7201a8"
             ],
             [
              0.3333333333333333,
              "#9c179e"
             ],
             [
              0.4444444444444444,
              "#bd3786"
             ],
             [
              0.5555555555555556,
              "#d8576b"
             ],
             [
              0.6666666666666666,
              "#ed7953"
             ],
             [
              0.7777777777777778,
              "#fb9f3a"
             ],
             [
              0.8888888888888888,
              "#fdca26"
             ],
             [
              1,
              "#f0f921"
             ]
            ],
            "type": "surface"
           }
          ],
          "table": [
           {
            "cells": {
             "fill": {
              "color": "#EBF0F8"
             },
             "line": {
              "color": "white"
             }
            },
            "header": {
             "fill": {
              "color": "#C8D4E3"
             },
             "line": {
              "color": "white"
             }
            },
            "type": "table"
           }
          ]
         },
         "layout": {
          "annotationdefaults": {
           "arrowcolor": "#2a3f5f",
           "arrowhead": 0,
           "arrowwidth": 1
          },
          "autotypenumbers": "strict",
          "coloraxis": {
           "colorbar": {
            "outlinewidth": 0,
            "ticks": ""
           }
          },
          "colorscale": {
           "diverging": [
            [
             0,
             "#8e0152"
            ],
            [
             0.1,
             "#c51b7d"
            ],
            [
             0.2,
             "#de77ae"
            ],
            [
             0.3,
             "#f1b6da"
            ],
            [
             0.4,
             "#fde0ef"
            ],
            [
             0.5,
             "#f7f7f7"
            ],
            [
             0.6,
             "#e6f5d0"
            ],
            [
             0.7,
             "#b8e186"
            ],
            [
             0.8,
             "#7fbc41"
            ],
            [
             0.9,
             "#4d9221"
            ],
            [
             1,
             "#276419"
            ]
           ],
           "sequential": [
            [
             0,
             "#0d0887"
            ],
            [
             0.1111111111111111,
             "#46039f"
            ],
            [
             0.2222222222222222,
             "#7201a8"
            ],
            [
             0.3333333333333333,
             "#9c179e"
            ],
            [
             0.4444444444444444,
             "#bd3786"
            ],
            [
             0.5555555555555556,
             "#d8576b"
            ],
            [
             0.6666666666666666,
             "#ed7953"
            ],
            [
             0.7777777777777778,
             "#fb9f3a"
            ],
            [
             0.8888888888888888,
             "#fdca26"
            ],
            [
             1,
             "#f0f921"
            ]
           ],
           "sequentialminus": [
            [
             0,
             "#0d0887"
            ],
            [
             0.1111111111111111,
             "#46039f"
            ],
            [
             0.2222222222222222,
             "#7201a8"
            ],
            [
             0.3333333333333333,
             "#9c179e"
            ],
            [
             0.4444444444444444,
             "#bd3786"
            ],
            [
             0.5555555555555556,
             "#d8576b"
            ],
            [
             0.6666666666666666,
             "#ed7953"
            ],
            [
             0.7777777777777778,
             "#fb9f3a"
            ],
            [
             0.8888888888888888,
             "#fdca26"
            ],
            [
             1,
             "#f0f921"
            ]
           ]
          },
          "colorway": [
           "#636efa",
           "#EF553B",
           "#00cc96",
           "#ab63fa",
           "#FFA15A",
           "#19d3f3",
           "#FF6692",
           "#B6E880",
           "#FF97FF",
           "#FECB52"
          ],
          "font": {
           "color": "#2a3f5f"
          },
          "geo": {
           "bgcolor": "white",
           "lakecolor": "white",
           "landcolor": "#E5ECF6",
           "showlakes": true,
           "showland": true,
           "subunitcolor": "white"
          },
          "hoverlabel": {
           "align": "left"
          },
          "hovermode": "closest",
          "mapbox": {
           "style": "light"
          },
          "paper_bgcolor": "white",
          "plot_bgcolor": "#E5ECF6",
          "polar": {
           "angularaxis": {
            "gridcolor": "white",
            "linecolor": "white",
            "ticks": ""
           },
           "bgcolor": "#E5ECF6",
           "radialaxis": {
            "gridcolor": "white",
            "linecolor": "white",
            "ticks": ""
           }
          },
          "scene": {
           "xaxis": {
            "backgroundcolor": "#E5ECF6",
            "gridcolor": "white",
            "gridwidth": 2,
            "linecolor": "white",
            "showbackground": true,
            "ticks": "",
            "zerolinecolor": "white"
           },
           "yaxis": {
            "backgroundcolor": "#E5ECF6",
            "gridcolor": "white",
            "gridwidth": 2,
            "linecolor": "white",
            "showbackground": true,
            "ticks": "",
            "zerolinecolor": "white"
           },
           "zaxis": {
            "backgroundcolor": "#E5ECF6",
            "gridcolor": "white",
            "gridwidth": 2,
            "linecolor": "white",
            "showbackground": true,
            "ticks": "",
            "zerolinecolor": "white"
           }
          },
          "shapedefaults": {
           "line": {
            "color": "#2a3f5f"
           }
          },
          "ternary": {
           "aaxis": {
            "gridcolor": "white",
            "linecolor": "white",
            "ticks": ""
           },
           "baxis": {
            "gridcolor": "white",
            "linecolor": "white",
            "ticks": ""
           },
           "bgcolor": "#E5ECF6",
           "caxis": {
            "gridcolor": "white",
            "linecolor": "white",
            "ticks": ""
           }
          },
          "title": {
           "x": 0.05
          },
          "xaxis": {
           "automargin": true,
           "gridcolor": "white",
           "linecolor": "white",
           "ticks": "",
           "title": {
            "standoff": 15
           },
           "zerolinecolor": "white",
           "zerolinewidth": 2
          },
          "yaxis": {
           "automargin": true,
           "gridcolor": "white",
           "linecolor": "white",
           "ticks": "",
           "title": {
            "standoff": 15
           },
           "zerolinecolor": "white",
           "zerolinewidth": 2
          }
         }
        },
        "title": {
         "font": {
          "size": 20
         },
         "text": "Budget neutral UBI funding models"
        },
        "width": 800,
        "xaxis": {
         "anchor": "y",
         "domain": [
          0,
          1
         ],
         "range": [
          0,
          0.6
         ],
         "tickfont": {
          "size": 14
         },
         "tickformat": ".0%",
         "title": {
          "font": {
           "color": "black",
           "size": 16
          },
          "text": "Basic rate addition"
         }
        },
        "yaxis": {
         "anchor": "x",
         "domain": [
          0,
          1
         ],
         "range": [
          0,
          12570
         ],
         "tickfont": {
          "size": 14
         },
         "tickformat": ",.0f",
         "tickprefix": "£",
         "title": {
          "font": {
           "color": "black",
           "size": 16
          },
          "text": "Personal Allowance reduction"
         }
        }
       }
      }
     },
     "metadata": {},
     "output_type": "display_data"
    }
   ],
   "source": [
    "import plotly.express as px\n",
    "from ubicenter import format_fig\n",
    "from ubicenter.plotly import BLUE_COLOR_SEQUENCE\n",
    "\n",
    "df[\"Personal Allowance reduction\"] = 12_570 - df[\"Personal Allowance\"]\n",
    "df[\"Higher rate addition\"] = df[\"Basic rate addition\"] * df[\"Higher/additional rate increase ratio\"]\n",
    "df[\"Additional rate addition\"] = df[\"Basic rate addition\"] * df[\"Higher/additional rate increase ratio\"]\n",
    "df[\"UBI/Increase ratio combination\"] = [\n",
    "    f\"£{ubi / 12:,.0f} per adult per month, higher/additional ratio {higher_add_ratio:.0%}\"\n",
    "    for ubi, higher_add_ratio in zip(\n",
    "        df[\"Adult UBI\"],\n",
    "        df[\"Higher/additional rate increase ratio\"],\n",
    "    )\n",
    "]\n",
    "df[\"Label\"] = [\n",
    "    f\"A £{ubi:,.0f} UBI and £{pa:,.0f} Personal Allowance can be made <br>budget neutral by setting the basic, higher and additional rates<br> to {0.2 + basic_rate_addition:.0%}, {0.4 + higher_rate_addition:.0%} and {0.45 + additional_rate_addition:.0%} respectively.\"\n",
    "    for ubi, pa, basic_rate_addition, higher_rate_addition, additional_rate_addition in zip(\n",
    "        df[\"Adult UBI\"],\n",
    "        df[\"Personal Allowance\"],\n",
    "        df[\"Basic rate addition\"],\n",
    "        df[\"Higher rate addition\"],\n",
    "        df[\"Additional rate addition\"],\n",
    "    )\n",
    "]\n",
    "\n",
    "df = df.sort_values([\"Adult UBI\", \"Higher/additional rate increase ratio\"])\n",
    "\n",
    "fig = px.line(\n",
    "    df, \n",
    "    x=\"Basic rate addition\", \n",
    "    y=\"Personal Allowance reduction\", \n",
    "    color=\"UBI/Increase ratio combination\",  \n",
    "    custom_data=[df.Label],\n",
    ")\n",
    "fig.update_layout(\n",
    "    xaxis_tickformat=\".0%\",\n",
    "    yaxis_tickprefix=\"£\",\n",
    "    yaxis_tickformat=\",.0f\",\n",
    "    yaxis_range=(0, 12_570),\n",
    "    xaxis_range=(0, 0.6),\n",
    "    title=\"Budget neutral UBI funding models\",\n",
    ")\n",
    "\n",
    "CUSTOM_HOVERTEMPLATE=\"%{customdata[0]}\"\n",
    "fig.update_traces(hovertemplate=CUSTOM_HOVERTEMPLATE)\n",
    "\n",
    "for frame in fig.frames:\n",
    "    for data in frame.data:\n",
    "        data.hovertemplate = CUSTOM_HOVERTEMPLATE\n",
    "\n",
    "format_fig(fig)"
   ]
  },
  {
   "cell_type": "markdown",
   "metadata": {},
   "source": [
    "## Impacts of budget-neutral UBI plans\n",
    "\n",
    "* Poverty\n",
    "* Inequality\n"
   ]
  }
 ],
 "metadata": {
  "interpreter": {
   "hash": "8dfc7b25af29ff50af05ad7ef5344155df419318e539ca710572e6dd4f9023a3"
  },
  "kernelspec": {
   "display_name": "Python 3.7.11 ('policyengine')",
   "language": "python",
   "name": "python3"
  },
  "language_info": {
   "codemirror_mode": {
    "name": "ipython",
    "version": 3
   },
   "file_extension": ".py",
   "mimetype": "text/x-python",
   "name": "python",
   "nbconvert_exporter": "python",
   "pygments_lexer": "ipython3",
   "version": "3.7.11"
  },
  "vscode": {
   "interpreter": {
    "hash": "55caae88f165576005f6048bc75f34cf1d7ac8493d0614f52ff8f060439f0b27"
   }
  }
 },
 "nbformat": 4,
 "nbformat_minor": 4
}
